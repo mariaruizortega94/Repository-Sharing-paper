{
 "cells": [
  {
   "cell_type": "code",
   "execution_count": 8,
   "id": "3c590a56",
   "metadata": {},
   "outputs": [],
   "source": [
    "from SHREC import SHREC\n",
    "import seaborn as sns\n",
    "import matplotlib.pyplot as plt\n",
    "import numpy as np"
   ]
  },
  {
   "cell_type": "code",
   "execution_count": 3,
   "id": "10a8d26f",
   "metadata": {},
   "outputs": [],
   "source": [
    "individuals = ['patient_1',\n",
    "               'patient_2',\n",
    "               'patient_3',\n",
    "               'patient_4',\n",
    "               'patient_5',\n",
    "               'patient_6',\n",
    "               'patient_7',\n",
    "               'patient_8',\n",
    "               'patient_9',\n",
    "               'patient_10']\n",
    "\n",
    "main_path = '/home/ruiz/Scripts/Sharing & Metasharing/Inference_sharing/'"
   ]
  },
  {
   "cell_type": "code",
   "execution_count": 4,
   "id": "a73b930d",
   "metadata": {},
   "outputs": [],
   "source": [
    "data = SHREC(individuals, path=main_path, sonia_model=main_path+'SONIA_model/', data=main_path+'Repertoire_example/')"
   ]
  },
  {
   "cell_type": "code",
   "execution_count": 5,
   "id": "df1655dd",
   "metadata": {},
   "outputs": [
    {
     "name": "stderr",
     "output_type": "stream",
     "text": [
      "2022-06-15 22:13:11.308189: W tensorflow/stream_executor/platform/default/dso_loader.cc:64] Could not load dynamic library 'libcuda.so.1'; dlerror: libcuda.so.1: cannot open shared object file: No such file or directory; LD_LIBRARY_PATH: /usr/local/lib:\n",
      "2022-06-15 22:13:11.308222: W tensorflow/stream_executor/cuda/cuda_driver.cc:269] failed call to cuInit: UNKNOWN ERROR (303)\n",
      "2022-06-15 22:13:11.308249: I tensorflow/stream_executor/cuda/cuda_diagnostics.cc:156] kernel driver does not appear to be running on this host (zuzia): /proc/driver/nvidia/version does not exist\n",
      "2022-06-15 22:13:11.308509: I tensorflow/core/platform/cpu_feature_guard.cc:193] This TensorFlow binary is optimized with oneAPI Deep Neural Network Library (oneDNN) to use the following CPU instructions in performance-critical operations:  AVX2 FMA\n",
      "To enable them in other operations, rebuild TensorFlow with the appropriate compiler flags.\n"
     ]
    },
    {
     "name": "stdout",
     "output_type": "stream",
     "text": [
      "171/171 [==============================] - 0s 1ms/step\n",
      "Unfamiliar V gene/allele: IGHV3-64D\n",
      "No recognized V genes/alleles. Using default V_usage_mask\n",
      "Unfamiliar V gene/allele: IGHV3-64D\n",
      "No recognized V genes/alleles. Using default V_usage_mask\n",
      "Unfamiliar V gene/allele: IGHV3-64D\n",
      "No recognized V genes/alleles. Using default V_usage_mask\n",
      "Unfamiliar V gene/allele: IGKV2-28\n",
      "No recognized V genes/alleles. Using default V_usage_mask\n",
      "Unfamiliar V gene/allele: IGKV2-28\n",
      "No recognized V genes/alleles. Using default V_usage_mask\n",
      "Unfamiliar V gene/allele: IGKV2-28\n",
      "No recognized V genes/alleles. Using default V_usage_mask\n",
      "Unfamiliar V gene/allele: IGKV2-28\n",
      "No recognized V genes/alleles. Using default V_usage_mask\n",
      "Unfamiliar V gene/allele: IGHV3-64D\n",
      "No recognized V genes/alleles. Using default V_usage_mask\n",
      "Unfamiliar V gene/allele: IGKV1-5\n",
      "No recognized V genes/alleles. Using default V_usage_mask\n",
      "Unfamiliar V gene/allele: IGKV1-12\n",
      "No recognized V genes/alleles. Using default V_usage_mask\n",
      "Unfamiliar V gene/allele: IGKV4-1\n",
      "No recognized V genes/alleles. Using default V_usage_mask\n",
      "Unfamiliar V gene/allele: IGKV1-39\n",
      "No recognized V genes/alleles. Using default V_usage_mask\n",
      "Unfamiliar V gene/allele: IGKV1-39\n",
      "No recognized V genes/alleles. Using default V_usage_mask\n",
      "Unfamiliar V gene/allele: IGKV1-33\n",
      "No recognized V genes/alleles. Using default V_usage_mask\n",
      "Unfamiliar V gene/allele: IGKV1-5\n",
      "No recognized V genes/alleles. Using default V_usage_mask\n",
      "Unfamiliar V gene/allele: IGKV3D-15\n",
      "No recognized V genes/alleles. Using default V_usage_mask\n",
      "Unfamiliar V gene/allele: IGKV4-1\n",
      "No recognized V genes/alleles. Using default V_usage_mask\n",
      "Unfamiliar V gene/allele: IGHV3-64D\n",
      "No recognized V genes/alleles. Using default V_usage_mask\n",
      "Unfamiliar V gene/allele: IGHV3-64D\n",
      "No recognized V genes/alleles. Using default V_usage_mask\n",
      "Invalid amino acid CDR3 sequence --- unfamiliar symbol: n\n"
     ]
    },
    {
     "name": "stderr",
     "output_type": "stream",
     "text": [
      "/home/ruiz/Scripts/Sharing & Metasharing/Inference_sharing/Model_tools.py:51: RuntimeWarning: divide by zero encountered in double_scalars\n",
      "  sum0 += (N[x-1]/(1-prob))\n",
      "/home/ruiz/Scripts/Sharing & Metasharing/Inference_sharing/Model_tools.py:51: RuntimeWarning: divide by zero encountered in double_scalars\n",
      "  sum0 += (N[x-1]/(1-prob))\n",
      "/home/ruiz/Scripts/Sharing & Metasharing/Inference_sharing/Model_tools.py:51: RuntimeWarning: divide by zero encountered in double_scalars\n",
      "  sum0 += (N[x-1]/(1-prob))\n",
      "/home/ruiz/Scripts/Sharing & Metasharing/Inference_sharing/Model_tools.py:51: RuntimeWarning: divide by zero encountered in double_scalars\n",
      "  sum0 += (N[x-1]/(1-prob))\n",
      "/home/ruiz/Scripts/Sharing & Metasharing/Inference_sharing/Model_tools.py:51: RuntimeWarning: divide by zero encountered in double_scalars\n",
      "  sum0 += (N[x-1]/(1-prob))\n",
      "/home/ruiz/Scripts/Sharing & Metasharing/Inference_sharing/Model_tools.py:51: RuntimeWarning: divide by zero encountered in double_scalars\n",
      "  sum0 += (N[x-1]/(1-prob))\n",
      "/home/ruiz/Scripts/Sharing & Metasharing/Inference_sharing/Model_tools.py:51: RuntimeWarning: divide by zero encountered in double_scalars\n",
      "  sum0 += (N[x-1]/(1-prob))\n",
      "/home/ruiz/Scripts/Sharing & Metasharing/Inference_sharing/Model_tools.py:51: RuntimeWarning: divide by zero encountered in double_scalars\n",
      "  sum0 += (N[x-1]/(1-prob))\n",
      "100%|████████████████████████████████████| 5341/5341 [00:00<00:00, 21402.97it/s]\n",
      "5341it [00:11, 469.22it/s]\n",
      "/home/ruiz/Scripts/Sharing & Metasharing/Inference_sharing/Model_tools.py:76: RuntimeWarning: invalid value encountered in log10\n",
      "  return(x-np.log10(q))\n",
      "5341it [00:16, 333.11it/s]\n",
      "/home/ruiz/miniconda3/lib/python3.7/site-packages/pandas/core/frame.py:3607: SettingWithCopyWarning: \n",
      "A value is trying to be set on a copy of a slice from a DataFrame.\n",
      "Try using .loc[row_indexer,col_indexer] = value instead\n",
      "\n",
      "See the caveats in the documentation: https://pandas.pydata.org/pandas-docs/stable/user_guide/indexing.html#returning-a-view-versus-a-copy\n",
      "  self._set_item(key, value)\n"
     ]
    }
   ],
   "source": [
    "result = data.Find_significant(ppost=None,chain_type='humanIGH',q=0.12)"
   ]
  },
  {
   "cell_type": "code",
   "execution_count": 6,
   "id": "97bf44b5",
   "metadata": {},
   "outputs": [
    {
     "data": {
      "text/html": [
       "<div>\n",
       "<style scoped>\n",
       "    .dataframe tbody tr th:only-of-type {\n",
       "        vertical-align: middle;\n",
       "    }\n",
       "\n",
       "    .dataframe tbody tr th {\n",
       "        vertical-align: top;\n",
       "    }\n",
       "\n",
       "    .dataframe thead th {\n",
       "        text-align: right;\n",
       "    }\n",
       "</style>\n",
       "<table border=\"1\" class=\"dataframe\">\n",
       "  <thead>\n",
       "    <tr style=\"text-align: right;\">\n",
       "      <th></th>\n",
       "      <th>cdr3nt</th>\n",
       "      <th>v_call</th>\n",
       "      <th>j_call</th>\n",
       "      <th>cdr3aa</th>\n",
       "      <th>p</th>\n",
       "    </tr>\n",
       "  </thead>\n",
       "  <tbody>\n",
       "    <tr>\n",
       "      <th>598</th>\n",
       "      <td>TGCGCGGCAGATCTCTCTAATCCAAGAATGGGGGCTTCGTATCTTG...</td>\n",
       "      <td>IGHV1-58</td>\n",
       "      <td>IGHJ4</td>\n",
       "      <td>CAADLSNPRMGASYLDSW</td>\n",
       "      <td>2.482490e-28</td>\n",
       "    </tr>\n",
       "    <tr>\n",
       "      <th>745</th>\n",
       "      <td>TGCGCAGCAGATCGTGGGGACTATAGTGGGAGCTACTGGACAGCAT...</td>\n",
       "      <td>IGHV1-24</td>\n",
       "      <td>IGHJ3</td>\n",
       "      <td>CAADRGDYSGSYWTAFDIW</td>\n",
       "      <td>7.485834e-14</td>\n",
       "    </tr>\n",
       "    <tr>\n",
       "      <th>974</th>\n",
       "      <td>TGCGCGGCAGAAGACACAGTGACTAGGAGTTATGACTTCTGG</td>\n",
       "      <td>IGHV1-2</td>\n",
       "      <td>IGHJ4</td>\n",
       "      <td>CAAEDTVTRSYDFW</td>\n",
       "      <td>9.503005e-17</td>\n",
       "    </tr>\n",
       "    <tr>\n",
       "      <th>1173</th>\n",
       "      <td>TGCGCGGCAGAGAGGTACAGTGACGGCTGTTGTTGGTTCGACCCCTGG</td>\n",
       "      <td>IGHV1-58</td>\n",
       "      <td>IGHJ5</td>\n",
       "      <td>CAAERYSDGCCWFDPW</td>\n",
       "      <td>5.888033e-11</td>\n",
       "    </tr>\n",
       "    <tr>\n",
       "      <th>1287</th>\n",
       "      <td>TGTGCGGCTTTTGATATCTGG</td>\n",
       "      <td>IGHV3-7</td>\n",
       "      <td>IGHJ3</td>\n",
       "      <td>CAAFDIW</td>\n",
       "      <td>1.000000e+00</td>\n",
       "    </tr>\n",
       "    <tr>\n",
       "      <th>...</th>\n",
       "      <td>...</td>\n",
       "      <td>...</td>\n",
       "      <td>...</td>\n",
       "      <td>...</td>\n",
       "      <td>...</td>\n",
       "    </tr>\n",
       "    <tr>\n",
       "      <th>677943</th>\n",
       "      <td>TGCTATTGGGAGGGCTCCTGG</td>\n",
       "      <td>IGHV3-73</td>\n",
       "      <td>IGHJ5</td>\n",
       "      <td>CYWEGSW</td>\n",
       "      <td>1.000000e+00</td>\n",
       "    </tr>\n",
       "    <tr>\n",
       "      <th>677948</th>\n",
       "      <td>TGCTACTACGGTATGGACGTCTGG</td>\n",
       "      <td>IGHV1-69</td>\n",
       "      <td>IGHJ6</td>\n",
       "      <td>CYYGMDVW</td>\n",
       "      <td>1.000000e+00</td>\n",
       "    </tr>\n",
       "    <tr>\n",
       "      <th>677953</th>\n",
       "      <td>TGCTACTACATGGACGTCTGG</td>\n",
       "      <td>IGHV3-21</td>\n",
       "      <td>IGHJ6</td>\n",
       "      <td>CYYMDVW</td>\n",
       "      <td>1.000000e+00</td>\n",
       "    </tr>\n",
       "    <tr>\n",
       "      <th>677961</th>\n",
       "      <td>TGCTATTACTATGATAGTAGTGGTTTTTACCCACAGACCAAAATTG...</td>\n",
       "      <td>IGHV3-23</td>\n",
       "      <td>IGHJ4</td>\n",
       "      <td>CYYYDSSGFYPQTKIDYW</td>\n",
       "      <td>1.212320e-19</td>\n",
       "    </tr>\n",
       "    <tr>\n",
       "      <th>677968</th>\n",
       "      <td>TGCTACTACTACTACATGGACGTCTGG</td>\n",
       "      <td>IGHV4-59</td>\n",
       "      <td>IGHJ6</td>\n",
       "      <td>CYYYYMDVW</td>\n",
       "      <td>1.000000e+00</td>\n",
       "    </tr>\n",
       "  </tbody>\n",
       "</table>\n",
       "<p>5341 rows × 5 columns</p>\n",
       "</div>"
      ],
      "text/plain": [
       "                                                   cdr3nt    v_call j_call  \\\n",
       "598     TGCGCGGCAGATCTCTCTAATCCAAGAATGGGGGCTTCGTATCTTG...  IGHV1-58  IGHJ4   \n",
       "745     TGCGCAGCAGATCGTGGGGACTATAGTGGGAGCTACTGGACAGCAT...  IGHV1-24  IGHJ3   \n",
       "974            TGCGCGGCAGAAGACACAGTGACTAGGAGTTATGACTTCTGG   IGHV1-2  IGHJ4   \n",
       "1173     TGCGCGGCAGAGAGGTACAGTGACGGCTGTTGTTGGTTCGACCCCTGG  IGHV1-58  IGHJ5   \n",
       "1287                                TGTGCGGCTTTTGATATCTGG   IGHV3-7  IGHJ3   \n",
       "...                                                   ...       ...    ...   \n",
       "677943                              TGCTATTGGGAGGGCTCCTGG  IGHV3-73  IGHJ5   \n",
       "677948                           TGCTACTACGGTATGGACGTCTGG  IGHV1-69  IGHJ6   \n",
       "677953                              TGCTACTACATGGACGTCTGG  IGHV3-21  IGHJ6   \n",
       "677961  TGCTATTACTATGATAGTAGTGGTTTTTACCCACAGACCAAAATTG...  IGHV3-23  IGHJ4   \n",
       "677968                        TGCTACTACTACTACATGGACGTCTGG  IGHV4-59  IGHJ6   \n",
       "\n",
       "                     cdr3aa             p  \n",
       "598      CAADLSNPRMGASYLDSW  2.482490e-28  \n",
       "745     CAADRGDYSGSYWTAFDIW  7.485834e-14  \n",
       "974          CAAEDTVTRSYDFW  9.503005e-17  \n",
       "1173       CAAERYSDGCCWFDPW  5.888033e-11  \n",
       "1287                CAAFDIW  1.000000e+00  \n",
       "...                     ...           ...  \n",
       "677943              CYWEGSW  1.000000e+00  \n",
       "677948             CYYGMDVW  1.000000e+00  \n",
       "677953              CYYMDVW  1.000000e+00  \n",
       "677961   CYYYDSSGFYPQTKIDYW  1.212320e-19  \n",
       "677968            CYYYYMDVW  1.000000e+00  \n",
       "\n",
       "[5341 rows x 5 columns]"
      ]
     },
     "execution_count": 6,
     "metadata": {},
     "output_type": "execute_result"
    }
   ],
   "source": [
    "result"
   ]
  },
  {
   "cell_type": "code",
   "execution_count": 10,
   "id": "a6e99e32",
   "metadata": {},
   "outputs": [
    {
     "name": "stderr",
     "output_type": "stream",
     "text": [
      "/home/ruiz/miniconda3/lib/python3.7/site-packages/seaborn/distributions.py:2557: FutureWarning: `distplot` is a deprecated function and will be removed in a future version. Please adapt your code to use either `displot` (a figure-level function with similar flexibility) or `histplot` (an axes-level function for histograms).\n",
      "  warnings.warn(msg, FutureWarning)\n"
     ]
    },
    {
     "data": {
      "text/plain": [
       "<matplotlib.legend.Legend at 0x7f0efc18a250>"
      ]
     },
     "execution_count": 10,
     "metadata": {},
     "output_type": "execute_result"
    },
    {
     "data": {
      "image/png": "[encoded data removed]",
      "text/plain": [
       "<Figure size 432x288 with 1 Axes>"
      ]
     },
     "metadata": {
      "needs_background": "light"
     },
     "output_type": "display_data"
    }
   ],
   "source": [
    "p1 = sns.distplot(-np.log10(result['p'].values), bins=10, norm_hist=True, kde=False, color='lightcoral', label='p-value', hist_kws=dict(alpha=0.5))\n",
    "\n",
    "plt.xlim(0,50)\n",
    "plt.xlabel('$-log_{10}(p)$')\n",
    "plt.ylabel('Probability Density')\n",
    "plt.title('p value distribution in healthy dataset')\n",
    "plt.legend()"
   ]
  }
 ],
 "metadata": {
  "kernelspec": {
   "display_name": "Python 3 (ipykernel)",
   "language": "python",
   "name": "python3"
  },
  "language_info": {
   "codemirror_mode": {
    "name": "ipython",
    "version": 3
   },
   "file_extension": ".py",
   "mimetype": "text/x-python",
   "name": "python",
   "nbconvert_exporter": "python",
   "pygments_lexer": "ipython3",
   "version": "3.7.11"
  }
 },
 "nbformat": 4,
 "nbformat_minor": 5
}
