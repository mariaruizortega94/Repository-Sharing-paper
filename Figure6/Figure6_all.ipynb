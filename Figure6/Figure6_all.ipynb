{
 "cells": [
  {
   "cell_type": "code",
   "execution_count": 1,
   "id": "21a99fcf",
   "metadata": {},
   "outputs": [],
   "source": [
    "import numpy as np\n",
    "import pandas as pd\n",
    "import matplotlib.pyplot as plt\n",
    "from tqdm import tqdm\n",
    "import multiprocessing as mp\n",
    "from scipy.optimize import brentq\n",
    "import sys\n",
    "import glob\n",
    "import seaborn as sns\n",
    "import itertools\n",
    "\n",
    "# Import the Python machine learning libraries we need\n",
    "\n",
    "from sklearn.model_selection import train_test_split\n",
    "from sklearn.tree import DecisionTreeClassifier\n",
    "from sklearn.metrics import accuracy_score\n",
    "from sklearn.linear_model import LogisticRegression\n",
    "from sklearn import metrics\n",
    "from sklearn.datasets import make_classification\n",
    "from sklearn.metrics import roc_curve\n",
    "from sklearn.metrics import roc_auc_score\n",
    "from sklearn.metrics import auc\n",
    "\n",
    "plt.rcParams[\"figure.figsize\"] = (10, 6)"
   ]
  },
  {
   "cell_type": "markdown",
   "id": "48a81cdb",
   "metadata": {},
   "source": [
    "#### Likelihood model for BCR"
   ]
  },
  {
   "cell_type": "code",
   "execution_count": 33,
   "id": "59951474",
   "metadata": {},
   "outputs": [],
   "source": [
    "N_h = [201500, 466600, 394100, 428500, 276100, 339200, 345700, 246700, 248900, 158500]\n",
    "N_c = [8800, 3300, 11400, 7500, 3200, 7100,3200, 1200, 3550, 1950, 3550, 3900, 2900, 1850, 1650, 3700, 3900, 5350, 4750, 2700, 4350, 5650, 9100, 4850, 4500,1000, 19300, 3700, 3600, 7100, 15300, 12100, 2700, 700, 2400, 15400, 400, 4200, 300, 5900, 3600, 13800, 2900, 54900]"
   ]
  },
  {
   "cell_type": "code",
   "execution_count": 34,
   "id": "60ce01b1",
   "metadata": {},
   "outputs": [],
   "source": [
    "file = '/home/ruiz/Sharing/SARS-CoV-2/All_datasets/x>1/total_covid_igg_cdr3aa_vj_shifted.txt'\n",
    "df = pd.read_csv(file, delimiter='\\t')\n",
    "\n",
    "df2 = df.loc[df['p']<0.0001, :]\n",
    "df2 = df2.sort_values(by=['p'], ascending=[True])\n",
    "df2_sub = df2[0:1000]\n",
    "\n",
    "fInput = 'LR_healthy.txt'\n",
    "df3 = pd.read_csv(fInput, delimiter='\\n', skip_blank_lines=False)"
   ]
  },
  {
   "cell_type": "code",
   "execution_count": 35,
   "id": "ed068715",
   "metadata": {},
   "outputs": [],
   "source": [
    "X = np.zeros([40,1000])\n",
    "for n, x in enumerate(df2_sub['files']):\n",
    "    files = x.split(',')\n",
    "    for f in files:\n",
    "        if np.int(f) < 30:\n",
    "            X[np.int(f)][n] = 1\n",
    "\n",
    "for n, x in enumerate(df3['0'][0:1000]):\n",
    "    if pd.isna(x) == True:\n",
    "        pass\n",
    "    else:\n",
    "        files = x.split(',')\n",
    "        for f in files:\n",
    "            #if np.int(f) < 6:\n",
    "            X[np.int(f)+29][n] = 1"
   ]
  },
  {
   "cell_type": "code",
   "execution_count": 36,
   "id": "8b5974a3",
   "metadata": {},
   "outputs": [],
   "source": [
    "def q_h1(p,n):\n",
    "    return(p*n)\n",
    "\n",
    "def p_h1(x, ppost, n):\n",
    "    sum1 = 0\n",
    "    sum0 = 0\n",
    "    for i in range(len(x)):\n",
    "        if x[i] == 1:\n",
    "            sum1 += np.log(np.float(q_h1(ppost[i],n)))\n",
    "        if x[i] == 0:\n",
    "            sum0 += np.log(np.float(1-q_h1(ppost[i],n)))\n",
    "    return(sum1 + sum0)\n",
    "\n",
    "q = 1e-6\n",
    "ppost = list(df2_sub['ppost']/q)\n",
    "\n",
    "N = N_c[0:30]+N_h\n",
    "\n",
    "P_h1 = []\n",
    "for i in range(len(X)):\n",
    "    P_h1.append(p_h1(X[i], ppost, N[i]))"
   ]
  },
  {
   "cell_type": "code",
   "execution_count": 37,
   "id": "0271f5b6",
   "metadata": {},
   "outputs": [
    {
     "name": "stderr",
     "output_type": "stream",
     "text": [
      "/home/ruiz/miniconda3/lib/python3.7/site-packages/ipykernel_launcher.py:7: RuntimeWarning: divide by zero encountered in double_scalars\n",
      "  import sys\n"
     ]
    }
   ],
   "source": [
    "def function_for_p(y,x,N):\n",
    "    sum0 = 0\n",
    "    N_sum = sum(N)\n",
    "    for j in range(len(x)):\n",
    "        prob = np.exp(-(y)*N[j])\n",
    "        if  x[j]!=0:\n",
    "            sum0 += (N[j]/(1-prob))\n",
    "    return(sum0-N_sum)\n",
    "\n",
    "a = float(1)\n",
    "b = float(0)\n",
    "\n",
    "XS = X.transpose()\n",
    "pdata = []\n",
    "for (i,x) in enumerate(XS):\n",
    "    if function_for_p(0,x,N)*function_for_p(1,x,N)<0:\n",
    "        pdata.append(brentq(function_for_p, a, b, args=(x,N)))\n",
    "    else:\n",
    "        sum_xi = sum(x)\n",
    "        pdata.append(sum_xi/sum(N))"
   ]
  },
  {
   "cell_type": "code",
   "execution_count": 38,
   "id": "02be3fec",
   "metadata": {},
   "outputs": [],
   "source": [
    "def q_h2(p,n):\n",
    "    return(1 - np.float(np.exp(-p*n)))\n",
    "\n",
    "def p_h2(x, pdata, n):\n",
    "    sum1 = 0\n",
    "    sum0 = 0\n",
    "    for i in range(len(x)):\n",
    "        if x[i] == 1:\n",
    "            sum1 += np.log(np.float(q_h2(pdata[i],n)))\n",
    "        if x[i] == 0:\n",
    "            sum0 += np.log(np.float(1-q_h2(pdata[i],n)))\n",
    "    return(sum1 + sum0)\n",
    "\n",
    "P_h2 = []\n",
    "for i in range(len(X)):\n",
    "    P_h2.append(p_h2(X[i], pdata, N[i]))"
   ]
  },
  {
   "cell_type": "code",
   "execution_count": 39,
   "id": "c7c7b3a6",
   "metadata": {},
   "outputs": [],
   "source": [
    "log_p_bcr = []\n",
    "for x,y in zip(P_h1, P_h2):\n",
    "    #log_p_bcr.append((x-y)/len(X))\n",
    "    log_p_bcr.append((y-x)/len(X))"
   ]
  },
  {
   "cell_type": "markdown",
   "id": "d001d032",
   "metadata": {},
   "source": [
    "#### Logistic Regression for TCR"
   ]
  },
  {
   "cell_type": "code",
   "execution_count": 9,
   "id": "1f18055e",
   "metadata": {},
   "outputs": [],
   "source": [
    "file = 'cdr3aa_vj_files_adaptive.txt'\n",
    "df = pd.read_csv(file, delimiter='\\t')\n",
    "\n",
    "snumber = []\n",
    "for x in df['files']:\n",
    "    files = x.split(',')\n",
    "    snumber.append(len(files))\n",
    "    \n",
    "df['snumber'] = snumber \n",
    "\n",
    "df2 = df.loc[((df['Posterior_prob']==0.0)|(df['p']<1e-140))&(np.log10(df['ppost_f']/0.452)/np.log10(df['pdata'])>1.1), :]"
   ]
  },
  {
   "cell_type": "code",
   "execution_count": 10,
   "id": "39946042",
   "metadata": {},
   "outputs": [],
   "source": [
    "y = np.zeros([2080])\n",
    "for i in range(0,1414):\n",
    "    y[i] = 1\n",
    "for i in range(1414,2080):\n",
    "    y[i] = 0"
   ]
  },
  {
   "cell_type": "code",
   "execution_count": 11,
   "id": "a06d5cdd",
   "metadata": {},
   "outputs": [],
   "source": [
    "df2_sub = df2.sort_values(by=['snumber'], ascending=[False])[0:7000]\n",
    "\n",
    "X = np.zeros([2080,7000])\n",
    "for n, x in enumerate(df2_sub['files']):\n",
    "    files = x.split(',')\n",
    "    for f in files:\n",
    "        X[np.int(f)][n] = 1\n",
    "\n",
    "for n, x in enumerate(df2_sub['file_in_healthy']):\n",
    "    files = x.split(',')\n",
    "    for f in files:\n",
    "        X[np.int(f)+1414][n] = 1"
   ]
  },
  {
   "cell_type": "code",
   "execution_count": 12,
   "id": "7391c946",
   "metadata": {},
   "outputs": [],
   "source": [
    "# Divide covid-19 X part in 10\n",
    "\n",
    "X1_c = X[0:141]\n",
    "X2_c = X[141:282]\n",
    "X3_c = X[282:423]\n",
    "X4_c = X[423:564]\n",
    "X5_c = X[564:705]\n",
    "X6_c = X[705:846]\n",
    "X7_c = X[846:987]\n",
    "X8_c = X[987:1128]\n",
    "X9_c = X[1128:1269]\n",
    "X10_c = X[1269:1414]\n",
    "\n",
    "# Divide healthy X part in 10\n",
    "\n",
    "X1_h = X[1414:1480]\n",
    "X2_h = X[1480:1546]\n",
    "X3_h = X[1546:1612]\n",
    "X4_h = X[1612:1678]\n",
    "X5_h = X[1678:1744]\n",
    "X6_h = X[1744:1810]\n",
    "X7_h = X[1810:1876]\n",
    "X8_h = X[1876:1942]\n",
    "X9_h = X[1942:2008]\n",
    "X10_h = X[2008:2080]\n",
    "\n",
    "# Divide covid-19 y part in 10\n",
    "\n",
    "y1_c = y[0:141]\n",
    "y2_c = y[141:282]\n",
    "y3_c = y[282:423]\n",
    "y4_c = y[423:564]\n",
    "y5_c = y[564:705]\n",
    "y6_c = y[705:846]\n",
    "y7_c = y[846:987]\n",
    "y8_c = y[987:1128]\n",
    "y9_c = y[1128:1269]\n",
    "y10_c = y[1269:1414]\n",
    "\n",
    "# Divide healthy y part in 10\n",
    "\n",
    "y1_h = y[1414:1480]\n",
    "y2_h = y[1480:1546]\n",
    "y3_h = y[1546:1612]\n",
    "y4_h = y[1612:1678]\n",
    "y5_h = y[1678:1744]\n",
    "y6_h = y[1744:1810]\n",
    "y7_h = y[1810:1876]\n",
    "y8_h = y[1876:1942]\n",
    "y9_h = y[1942:2008]\n",
    "y10_h = y[2008:2080]"
   ]
  },
  {
   "cell_type": "code",
   "execution_count": 13,
   "id": "19e73a82",
   "metadata": {},
   "outputs": [],
   "source": [
    "y_true = []\n",
    "y_model = []\n",
    "\n",
    "prob = []\n",
    "\n",
    "for i in range(0,10):\n",
    "    \n",
    "    # Define all the blocks\n",
    "    \n",
    "    all_X_c = [X1_c, X2_c, X3_c, X4_c, X5_c, X6_c, X7_c, X8_c,X9_c, X10_c]\n",
    "    all_X_h = [X1_h, X2_h, X3_h, X4_h, X5_h, X6_h, X7_h, X8_h,X9_h, X10_h]\n",
    "    all_y_c = [y1_c, y2_c, y3_c, y4_c, y5_c, y6_c, y7_c, y8_c,y9_c, y10_c]\n",
    "    all_y_h = [y1_h, y2_h, y3_h, y4_h, y5_h, y6_h, y7_h, y8_h,y9_h, y10_h]\n",
    "\n",
    "    # Dynamically remove one of the blocks (left for testing)\n",
    "    \n",
    "    X_test_covid = all_X_c.pop(i)\n",
    "    X_test_healthy = all_X_h.pop(i)\n",
    "    X_test = np.concatenate([X_test_covid,X_test_healthy])\n",
    "    \n",
    "    y_test_covid = all_y_c.pop(i)\n",
    "    y_test_healthy = all_y_h.pop(i)\n",
    "    y_test = np.concatenate([y_test_covid,y_test_healthy])\n",
    "    \n",
    "    y_true.append(y_test) # Save the real test for later\n",
    "    \n",
    "    # Train model in the remaining 9 blocks \n",
    "    \n",
    "    X_covid = np.concatenate(all_X_c)\n",
    "    X_healthy = np.concatenate(all_X_h)\n",
    "    X_train = np.concatenate([X_covid,X_healthy])\n",
    "    \n",
    "    y_covid = np.concatenate(all_y_c)\n",
    "    y_healthy = np.concatenate(all_y_h)\n",
    "    y_train = np.concatenate([y_covid,y_healthy])\n",
    "    \n",
    "    # Infer the model\n",
    "    \n",
    "    model_lr = LogisticRegression(solver='lbfgs',penalty='l2', max_iter=600,class_weight='balanced', C=0.0005)\n",
    "    \n",
    "    model_lr.fit(X_train, y_train)\n",
    "    \n",
    "    y_model.append(model_lr.predict(X_test))\n",
    "    \n",
    "    prob.append(model_lr.predict_proba(X_test)[::,1])"
   ]
  },
  {
   "cell_type": "code",
   "execution_count": 14,
   "id": "097a0dd3",
   "metadata": {},
   "outputs": [],
   "source": [
    "all_y_true = list(itertools.chain.from_iterable(y_true))\n",
    "all_y_model = list(itertools.chain.from_iterable(y_model))\n",
    "all_prob = list(itertools.chain.from_iterable(prob))"
   ]
  },
  {
   "cell_type": "code",
   "execution_count": 16,
   "id": "70afbcdf",
   "metadata": {},
   "outputs": [],
   "source": [
    "diagnostic = []\n",
    "for i in all_y_true:\n",
    "    if i == 1:\n",
    "        diagnostic.append('Positive')\n",
    "    if i == 0:\n",
    "        diagnostic.append('Negative')\n",
    "\n",
    "df_prob = pd.DataFrame(list(zip(all_prob, diagnostic)), columns =['Probability', 'Diagnostic'])"
   ]
  },
  {
   "cell_type": "markdown",
   "id": "b02d5323",
   "metadata": {},
   "source": [
    "### Likelihood Model for TCR"
   ]
  },
  {
   "cell_type": "code",
   "execution_count": 15,
   "id": "5fa2c107",
   "metadata": {},
   "outputs": [],
   "source": [
    "N_h = [109800, 103100, 169300, 205600, 109600, 214500, 181800, 79900, 303500, 97400, 107000, 157900, 211900, 338200, 307400, 257100, 276100, 142400, 334200, 103100, 161900, 143300, 337200, 182100, 228700, 327100, 321000, 306500, 276700, 190500, 185800, 340300,240700, 130500, 353700, 271000, 271600, 317300, 265900, 211300,61800, 198800, 192400, 257100, 151500, 130500, 218300, 195700, 86000,269400, 103000, 179900, 207000, 189700, 288700, 163000, 171900,348400, 271000, 289500, 234700, 210600, 149700, 119200, 170800,184500, 275700, 179300, 218700, 98600, 45200, 157600, 109500, 185400,216900, 62500, 168800, 188500, 227300, 297500, 216200, 201600,134700, 52900, 259500, 170600, 216400, 297600, 208300, 227500,332400, 467500, 311500, 229400, 151800, 91600, 303500, 106400,153700, 115900, 239700, 231300, 332400, 44100, 474900, 221300,229900, 69600, 279600, 169400, 365000, 215200, 132100, 267800,214700, 64700, 183600, 247100, 44200, 120300, 198400, 127500, 322900,239800, 326700, 233700, 318300, 211900, 155500, 138400, 148100,131500, 243000, 240500, 322100, 135000, 219600, 81900, 324800,274100, 182600, 179000, 183600, 251100, 329300, 112800, 86900,308900, 143500, 163300, 176900, 253600, 188100, 281700, 365000,104500, 161400, 203500, 294300, 197700, 275700, 157400, 116200,143500, 157600, 305600, 177800, 296500, 358700, 232200, 277200,222100, 251800, 278800, 279700, 30000, 113100, 132400, 185400,243000, 277400, 235800, 263200, 322800, 191800, 285600, 345000,154600, 95400, 61300, 74600, 271000, 253900, 212500, 167800, 266800,293000, 166600, 131500, 261500, 266200, 67900, 86200, 113300, 94100,1200, 150800, 231900, 108300, 283700, 264000, 79400, 230500, 287200,124600, 269400, 194700, 373700, 302800, 152300, 181800, 203500,366900, 208300, 138900, 216400, 255000, 347200, 349700, 248800,224200, 384700, 366400, 246800, 338200, 99700, 319600, 280500,223600, 167900, 246800, 177900, 271000, 444300, 201100, 98600,138300, 302800, 195500, 169200, 308900, 217200, 345000, 350800,164400, 240500, 218300, 334200, 120500, 229300, 177800, 310700,133200, 298300, 167700, 224800, 187100, 112400, 167500, 237400,280500, 208300, 282600, 167200, 279600, 64400, 200000, 322100,126500, 98600, 154100, 325600, 263200, 119700, 375600, 215900,296500, 72800, 216200, 195900, 252600, 289000, 199100, 265000, 80300,245300, 197600, 156000, 239800, 222800, 254100, 67100, 306400,199200, 163900, 143900, 172800, 153700, 278000, 84500, 111600,235600, 228700, 218600, 388600, 293500, 274100, 256600, 228800,245300, 204700, 116400, 130500, 264000, 124600, 105900, 106800,223500, 274000, 276100, 408900, 303500, 133200, 216900, 213500,199500, 150800, 220900, 94100, 186500, 266800, 125700, 269800,208800, 105800, 223500, 235300, 353200, 231000, 340900, 194700,176900, 310300, 176900, 244200, 234200, 60600, 115200, 96400, 163500,252600, 155800, 114200, 112800, 292200, 61400, 229900, 200300,173200, 147000, 218300, 190000, 162600, 366300, 338200, 205100,116800, 296500, 237400, 123000, 245300, 190200, 371400, 194200,137600, 110800, 291400, 353200, 210700, 282600, 324900, 198200,182100, 213300, 242400, 350800, 217100, 349500, 59400, 165000,484400, 163900, 300900, 61100, 341000, 144100, 210800, 192500, 37000,251100, 281300, 140000, 147500, 203500, 214700, 241900, 193600,112000, 185400, 463800, 273100, 313800, 185900, 294200, 165000,224000, 176500, 104200, 276400, 88500, 262700, 295800, 239200,138900, 157900, 327500, 124400, 243000, 251200, 7200, 263200, 281300,82000, 285300, 55800, 208300, 167200, 164400, 137000, 215000, 233700,78100, 401900, 190200, 185600, 197000, 384700, 38800, 238900, 134300,98300, 64500, 73200, 136300, 184800, 251800, 166100, 127500, 152500,71900, 102700, 177800, 383800, 53200, 296200, 79000, 145300, 185400,108300, 140800, 172800, 95400, 222000, 211200, 230100, 330300, 63900,143300, 200600, 171300, 289900, 114100, 147500, 210800, 25700,401800, 256200, 245300, 208800, 120000, 174900, 124800, 226400,260100, 33500, 72100, 171700, 150200, 346500, 292200, 208800, 267200,143700, 59300, 230500, 231900, 194200, 107400, 308000, 132800,233300, 181200, 192600, 175200, 219100, 120500, 128600, 89800,169200, 231900, 483300, 223600, 61100, 165500, 241100, 140100,212500, 255000, 190700, 317800, 54500, 125400, 200000, 274300,220200, 186400, 163000, 345000, 226700, 195500, 241100, 205400,342300, 183200, 293400, 139600, 276400, 147000, 92100, 119100,325200, 243000, 342900, 92400, 201600, 97000, 216900, 308000, 136400,235500, 11800, 79900, 339200, 16300, 94400, 311500, 216300, 304400,157400, 304600, 231000, 176900, 218300, 213700, 175700, 178300,75500, 202600, 68400, 228700, 119200, 267400, 172800, 257400, 91000,271700, 303600, 278400, 164900, 162600, 281700, 69000, 134800,206400, 284000, 420300, 153300, 153700, 189700, 267200, 142100,203500, 222000, 247300, 238200, 284200, 226400, 125700, 163900,286300, 179900, 218400, 165200, 110900, 98600, 297600, 262700,144700, 292900, 161300, 131800, 238900, 372400, 100000, 210600,147300, 286300, 277100, 75000, 141200, 195200, 228800, 325200, 60400,303800, 282300, 246800, 246800, 283700, 235300, 290100, 239000,327500, 201600, 214300, 211500, 121700, 195200, 235300, 239700,224000, 207000, 55600, 69200, 106100, 291000]\n",
    "\n",
    "fInput = 'inferred_n.txt'\n",
    "df = pd.read_csv(fInput, delimiter='\\t')\n",
    "N_c = list(df['Inferred_N'])"
   ]
  },
  {
   "cell_type": "code",
   "execution_count": 17,
   "id": "453b10d7",
   "metadata": {},
   "outputs": [],
   "source": [
    "df2_sub = df2.sort_values(by=['snumber'], ascending=[False])[:1200]\n",
    "\n",
    "X = np.zeros([1000,1200])\n",
    "for n, x in enumerate(df2_sub['files']):\n",
    "    files = x.split(',')\n",
    "    for f in files:\n",
    "        if np.int(f)<700:\n",
    "            X[np.int(f)][n] = 1\n",
    "\n",
    "for n, x in enumerate(df2_sub['file_in_healthy']):\n",
    "    files = x.split(',')\n",
    "    for f in files:\n",
    "        if np.int(f)<300:\n",
    "            X[np.int(f)+700][n] = 1"
   ]
  },
  {
   "cell_type": "code",
   "execution_count": 18,
   "id": "af241616",
   "metadata": {},
   "outputs": [],
   "source": [
    "y_true = np.zeros([1000])\n",
    "for i in range(0,700):\n",
    "    y_true[i] = 1\n",
    "for i in range(700,1000):\n",
    "    y_true[i] = 0"
   ]
  },
  {
   "cell_type": "code",
   "execution_count": 19,
   "id": "09c53dd4",
   "metadata": {},
   "outputs": [],
   "source": [
    "def q_h1(p,n):\n",
    "    q = 1 - np.float(np.exp(-p*n))\n",
    "    if q != 0:\n",
    "        return(q)\n",
    "    else:\n",
    "        q = p*n\n",
    "        return(q)\n",
    "    \n",
    "def p_h1(x, ppost, n):\n",
    "    sum1 = 0\n",
    "    sum0 = 0\n",
    "    for i in range(len(x)):\n",
    "        if x[i] == 1:\n",
    "            sum1 += np.log(q_h1(ppost[i],n))\n",
    "        if x[i] == 0:\n",
    "            sum0 += np.log(1-q_h1(ppost[i],n))\n",
    "    return(sum1 + sum0)"
   ]
  },
  {
   "cell_type": "code",
   "execution_count": 20,
   "id": "37ca8933",
   "metadata": {},
   "outputs": [],
   "source": [
    "q = 0.472\n",
    "ppost = list(df2_sub['ppost_f']/q)\n",
    "P_h1 = []\n",
    "N = N_c[:700] + N_h[:300]\n",
    "\n",
    "for i in range(len(X)):\n",
    "    P_h1.append(p_h1(X[i], ppost, N[i]))"
   ]
  },
  {
   "cell_type": "code",
   "execution_count": 21,
   "id": "3ea37438",
   "metadata": {},
   "outputs": [],
   "source": [
    "def function_for_p(x,y,N):\n",
    "    sum0 = 0\n",
    "    N_sum = sum(N)\n",
    "    for j in range(len(x)):\n",
    "        prob = np.exp(-(y)*N[j])\n",
    "        if  x[j]!=0:\n",
    "            sum0 += (N[j]/(1-prob))\n",
    "    return(sum0-N_sum)\n",
    "\n",
    "def solve_for_p(i,x):\n",
    "    def onevarfunc(y):\n",
    "        return(function_for_p(x,y,N))\n",
    "\n",
    "    if onevarfunc(a)*onevarfunc(b)<0:\n",
    "        return(i,brentq(onevarfunc, a, b)) \n",
    "    else:\n",
    "        sum_xi = sum(x)\n",
    "        return(i, sum_xi/sum(N_train))\n",
    "    \n",
    "def xs2ps(xs):\n",
    "    pool = mp.Pool(mp.cpu_count())\n",
    "\n",
    "    results = [pool.apply_async(solve_for_p, args=(i,x)) for (i,x) in enumerate(xs)] \n",
    "\n",
    "    results_not_in_order = []\n",
    "\n",
    "    for res in tqdm(results):\n",
    "        results_not_in_order.append(res.get(timeout=180))\n",
    "\n",
    "    ps = np.zeros(len(xs))\n",
    "    for i,p in results_not_in_order:\n",
    "        ps[i] = p\n",
    "\n",
    "    pool.close()\n",
    "\n",
    "    return ps"
   ]
  },
  {
   "cell_type": "code",
   "execution_count": 22,
   "id": "74a35835",
   "metadata": {},
   "outputs": [
    {
     "name": "stderr",
     "output_type": "stream",
     "text": [
      "/home/ruiz/miniconda3/lib/python3.7/site-packages/ipykernel_launcher.py:7: RuntimeWarning: divide by zero encountered in double_scalars\n",
      "  import sys\n",
      "/home/ruiz/miniconda3/lib/python3.7/site-packages/ipykernel_launcher.py:7: RuntimeWarning: divide by zero encountered in double_scalars\n",
      "  import sys\n",
      "/home/ruiz/miniconda3/lib/python3.7/site-packages/ipykernel_launcher.py:7: RuntimeWarning: divide by zero encountered in double_scalars\n",
      "  import sys\n",
      "/home/ruiz/miniconda3/lib/python3.7/site-packages/ipykernel_launcher.py:7: RuntimeWarning: divide by zero encountered in double_scalars\n",
      "  import sys\n",
      "/home/ruiz/miniconda3/lib/python3.7/site-packages/ipykernel_launcher.py:7: RuntimeWarning: divide by zero encountered in double_scalars\n",
      "  import sys\n",
      "/home/ruiz/miniconda3/lib/python3.7/site-packages/ipykernel_launcher.py:7: RuntimeWarning: divide by zero encountered in double_scalars\n",
      "  import sys\n",
      "/home/ruiz/miniconda3/lib/python3.7/site-packages/ipykernel_launcher.py:7: RuntimeWarning: divide by zero encountered in double_scalars\n",
      "  import sys\n",
      "/home/ruiz/miniconda3/lib/python3.7/site-packages/ipykernel_launcher.py:7: RuntimeWarning: divide by zero encountered in double_scalars\n",
      "  import sys\n",
      "100%|███████████████████████████████████████████████████████████████████████████████| 1200/1200 [00:22<00:00, 54.11it/s]\n"
     ]
    }
   ],
   "source": [
    "a = float(1)\n",
    "b = float(0)\n",
    "XS = X.transpose()\n",
    "pdata = xs2ps(XS)"
   ]
  },
  {
   "cell_type": "code",
   "execution_count": 23,
   "id": "81f6cdad",
   "metadata": {},
   "outputs": [],
   "source": [
    "def q_h2(p,n):\n",
    "    return(1 - np.float(np.exp(-p*n)))\n",
    "\n",
    "def p_h2(x, pdata, n):\n",
    "    sum1 = 0\n",
    "    sum0 = 0\n",
    "    for i in range(len(x)):\n",
    "        if x[i] == 1:\n",
    "            sum1 += np.log(np.float(q_h2(pdata[i],n)))\n",
    "        if x[i] == 0:\n",
    "            sum0 += np.log(1-np.float(q_h2(pdata[i],n)))\n",
    "    return(sum1 + sum0)"
   ]
  },
  {
   "cell_type": "code",
   "execution_count": 24,
   "id": "72e72ada",
   "metadata": {},
   "outputs": [],
   "source": [
    "P_h2 = []\n",
    "for i in range(len(X)):\n",
    "    P_h2.append(p_h2(X[i], pdata, N[i]))"
   ]
  },
  {
   "cell_type": "code",
   "execution_count": 25,
   "id": "e9c50f25",
   "metadata": {},
   "outputs": [],
   "source": [
    "log_p = []\n",
    "for x,y in zip(P_h1, P_h2):\n",
    "    log_p.append((x-y)/len(X))"
   ]
  },
  {
   "cell_type": "code",
   "execution_count": 26,
   "id": "04358c4e",
   "metadata": {},
   "outputs": [],
   "source": [
    "score_llr = log_p\n",
    "\n",
    "\n",
    "fpr_llr = []\n",
    "\n",
    "tpr_llr = []\n",
    "\n",
    "threshold = np.linspace(-2,0, 10000)\n",
    "\n",
    "# get number of positive and negative examples in the dataset\n",
    "P = sum(y_true)\n",
    "N = len(y_true) - P\n",
    "\n",
    "# iterate through all thresholds and determine fraction of true positives\n",
    "# and false positives found at this threshold\n",
    "for thresh1 in threshold:\n",
    "    FP=0\n",
    "    TP=0\n",
    "    for i in range(len(score_llr)):\n",
    "        if (score_llr[i] > thresh1):\n",
    "            if y_true[i] == 1:\n",
    "                TP = TP + 1\n",
    "            if y_true[i] == 0:\n",
    "                FP = FP + 1\n",
    "    fpr_llr.append(FP/float(N))\n",
    "    tpr_llr.append(TP/float(P))\n"
   ]
  },
  {
   "cell_type": "markdown",
   "id": "3e68d62d",
   "metadata": {},
   "source": [
    "#### AUC Curve"
   ]
  },
  {
   "cell_type": "code",
   "execution_count": 27,
   "id": "4f2924f1",
   "metadata": {},
   "outputs": [],
   "source": [
    "fpr, tpr, _ = metrics.roc_curve(all_y_true,  all_prob)\n",
    "auc_lr = metrics.roc_auc_score(all_y_true,  all_prob)\n",
    "auc_llr = auc(fpr_llr, tpr_llr)"
   ]
  },
  {
   "cell_type": "markdown",
   "id": "c6d81f14",
   "metadata": {},
   "source": [
    "#### All plots"
   ]
  },
  {
   "cell_type": "code",
   "execution_count": 28,
   "id": "00139c91",
   "metadata": {},
   "outputs": [],
   "source": [
    "font={'size': 10, 'weight': 'normal', 'family': 'DejaVu Sans'}\n",
    "plt.rc('text', usetex=True)\n",
    "plt.rc('font', **font)"
   ]
  },
  {
   "cell_type": "code",
   "execution_count": 48,
   "id": "5c8dedfb",
   "metadata": {},
   "outputs": [
    {
     "name": "stderr",
     "output_type": "stream",
     "text": [
      "No handles with labels found to put in legend.\n"
     ]
    },
    {
     "data": {
      "image/png": "[encoded data removed]",
      "text/plain": [
       "<Figure size 576x144 with 3 Axes>"
      ]
     },
     "metadata": {
      "needs_background": "light"
     },
     "output_type": "display_data"
    }
   ],
   "source": [
    "fig, ((ax1,ax2,ax3)) = plt.subplots(1,3,figsize=(8,2))\n",
    "plt.rc('text', usetex=True)\n",
    "\n",
    "#Subplot 1\n",
    "\n",
    "x1 = log_p_bcr[0:30] # positive sample \n",
    "x2 = log_p_bcr[30:] # negative sample\n",
    "\n",
    "kwargs = dict(histtype='stepfilled', alpha=0.3, density=False, bins=120, label='Positive Samples')\n",
    "ax1.hist(x1, **kwargs, color='forestgreen')\n",
    "\n",
    "kwargs = dict(histtype='stepfilled', alpha=0.3, density=False, bins=5,label='Negative Samples')\n",
    "ax1.hist(x2, **kwargs, color='salmon')\n",
    "\n",
    "ax1.axvline(0.1,ls='--', lw=0.5, color='black')\n",
    "\n",
    "\n",
    "ax1.set_title(\"Human IgG BCR\")\n",
    "ax1.legend(loc='upper left',frameon=False)\n",
    "ax1.set_xlabel('Log likelihood ratio score')\n",
    "ax1.set_ylabel('Counts')\n",
    "\n",
    "# Subplot 2\n",
    "\n",
    "x1 = df_prob.loc[df_prob['Diagnostic']=='Positive',['Probability']] # positive sample \n",
    "x2 = df_prob.loc[df_prob['Diagnostic']=='Negative',['Probability']] # negative sample\n",
    "\n",
    "kwargs = dict(histtype='stepfilled', alpha=0.3, density=False, bins=200)\n",
    "ax2.hist(x1['Probability'], **kwargs, color='forestgreen')\n",
    "\n",
    "kwargs = dict(histtype='stepfilled', alpha=0.3, density=False, bins=200)\n",
    "ax2.hist(x2['Probability'], **kwargs, color='salmon')\n",
    "\n",
    "\n",
    "#ax2.title(\"TCR\")\n",
    "ax2.legend(loc='upper left',frameon=False)\n",
    "ax2.set_xlabel('Logistic regression probability')\n",
    "ax2.set_ylabel('Counts')\n",
    "ax2.set_title(r\"Human TCR$\\beta$\")\n",
    "ax2.set_xlim(0,1)\n",
    "\n",
    "# Subplot 3\n",
    "\n",
    "ax3.plot(fpr,tpr,label=\"Logistic regression, \\n auc=0.92\")\n",
    "ax3.plot(fpr_llr,tpr_llr, color = 'red', label='Log likelihood ratio, \\n auc=0.57')\n",
    "xs = np.arange(0,1.1,0.1)\n",
    "ax3.plot(xs, xs, ls='--', lw=0.6, c='black')\n",
    "ax3.set_xlabel('1-Specificity')\n",
    "ax3.set_ylabel('Sensitiviy')\n",
    "ax3.legend(loc=4, frameon=False)\n",
    "\n",
    "plt.tight_layout()\n",
    "\n",
    "fig.savefig('/home/ruiz/Figure6.pdf',bbox_inches='tight')\n",
    "\n",
    "plt.show()"
   ]
  },
  {
   "cell_type": "code",
   "execution_count": null,
   "id": "5be1d48b",
   "metadata": {},
   "outputs": [],
   "source": []
  }
 ],
 "metadata": {
  "kernelspec": {
   "display_name": "Python 3 (ipykernel)",
   "language": "python",
   "name": "python3"
  },
  "language_info": {
   "codemirror_mode": {
    "name": "ipython",
    "version": 3
   },
   "file_extension": ".py",
   "mimetype": "text/x-python",
   "name": "python",
   "nbconvert_exporter": "python",
   "pygments_lexer": "ipython3",
   "version": "3.7.11"
  }
 },
 "nbformat": 4,
 "nbformat_minor": 5
}
