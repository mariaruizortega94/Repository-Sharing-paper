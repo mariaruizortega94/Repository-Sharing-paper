{
 "cells": [
  {
   "cell_type": "code",
   "execution_count": 1,
   "metadata": {},
   "outputs": [],
   "source": [
    "import pandas as pd\n",
    "import glob\n",
    "import numpy as np\n",
    "import matplotlib\n",
    "import matplotlib.pyplot as plt\n",
    "import seaborn as sns"
   ]
  },
  {
   "cell_type": "markdown",
   "metadata": {},
   "source": [
    "### IgM"
   ]
  },
  {
   "cell_type": "code",
   "execution_count": 2,
   "metadata": {},
   "outputs": [],
   "source": [
    "fInput = 'counts_igm.tsv'\n",
    "df = pd.read_csv(fInput, delimiter='\\t', header=None)\n",
    "counts_igm = np.array(df[0])"
   ]
  },
  {
   "cell_type": "code",
   "execution_count": 8,
   "metadata": {},
   "outputs": [],
   "source": [
    "fInput_2 = 'counts_igm_sim.tsv'\n",
    "df_2 = pd.read_csv(fInput_2, delimiter='\\t', header=None)\n",
    "counts_igm_sim = np.array(df_2[0])"
   ]
  },
  {
   "cell_type": "code",
   "execution_count": 5,
   "metadata": {},
   "outputs": [],
   "source": [
    "hist_igm,_ = np.histogram(counts_igm, bins = np.arange(counts_igm.min(), counts_igm.max()+2))\n",
    "hist_igm_sim,_ = np.histogram(counts_igm_sim, bins = np.arange(counts_igm_sim.min(), counts_igm_sim.max()+2))"
   ]
  },
  {
   "cell_type": "code",
   "execution_count": 6,
   "metadata": {},
   "outputs": [],
   "source": [
    "snumber = np.array([1, 2, 3, 4, 5, 6, 7, 8,9,10])\n",
    "M_igm = np.array(pd.read_csv('M_igm.tsv', delimiter='\\t', header=None)[0])\n",
    "M_igm_sel = np.array(pd.read_csv('M_igm_sel.tsv', delimiter='\\t', header=None)[0])\n",
    "M_igm_post = np.array(pd.read_csv('M_igm_post.tsv', delimiter='\\t', header=None)[0])"
   ]
  },
  {
   "cell_type": "code",
   "execution_count": 7,
   "metadata": {},
   "outputs": [],
   "source": [
    "M_igm_error = []\n",
    "for element in M_igm:\n",
    "    M_igm_error.append(np.sqrt(element))\n",
    "M_igm_nosel_error = []\n",
    "for element in hist_igm_sim:\n",
    "    M_igm_nosel_error.append(np.sqrt(element))\n",
    "M_igm_post_error = []\n",
    "for element in M_igm_post:\n",
    "    M_igm_post_error.append(np.sqrt(element))"
   ]
  },
  {
   "cell_type": "markdown",
   "metadata": {},
   "source": [
    "### IgG"
   ]
  },
  {
   "cell_type": "code",
   "execution_count": null,
   "metadata": {},
   "outputs": [],
   "source": [
    "fInput = 'ancestors_counts.tsv'\n",
    "df = pd.read_csv(fInput, delimiter='\\t', header=None)\n",
    "counts_igg = np.array(df[0])"
   ]
  },
  {
   "cell_type": "code",
   "execution_count": 17,
   "metadata": {},
   "outputs": [],
   "source": [
    "fInput_2 = 'ancestors_sim_counts.tsv'\n",
    "df_2 = pd.read_csv(fInput, delimiter='\\t', header=None)\n",
    "counts_igg_sim = np.array(df_2[0])"
   ]
  },
  {
   "cell_type": "code",
   "execution_count": 11,
   "metadata": {},
   "outputs": [],
   "source": [
    "hist_igg,_ = np.histogram(counts_igg, bins = np.arange(counts_igg.min(), counts_igg.max()+2))\n",
    "hist_igg_sim,_ = np.histogram(counts_2, bins = np.arange(counts_2.min(), counts_2.max()+2))"
   ]
  },
  {
   "cell_type": "code",
   "execution_count": 12,
   "metadata": {},
   "outputs": [],
   "source": [
    "M_igg_sel = np.array(pd.read_csv('M_igg_sel.tsv', delimiter='\\t', header=None)[0])\n",
    "M_igg_post = np.array(pd.read_csv('M_igg_post.tsv', delimiter='\\t', header=None)[0])"
   ]
  },
  {
   "cell_type": "code",
   "execution_count": 13,
   "metadata": {},
   "outputs": [],
   "source": [
    "M_igg_nosel_error = []\n",
    "for element in hist_igg_sim:\n",
    "    M_igg_nosel_error.append(np.sqrt(element))\n",
    "M_igg_post_error = []\n",
    "for element in M_igg_post:\n",
    "    M_igg_post_error.append(np.sqrt(element))"
   ]
  },
  {
   "cell_type": "markdown",
   "metadata": {},
   "source": [
    "### Sharing: IgM vs IgG "
   ]
  },
  {
   "cell_type": "code",
   "execution_count": 14,
   "metadata": {},
   "outputs": [],
   "source": [
    "hist_igmg = [2930206,25284,4197,1332,523,203,73,21,4,0]\n",
    "hist_igmg_error = []\n",
    "for element in hist_igm:\n",
    "    hist_igmg_error.append(np.sqrt(element))"
   ]
  },
  {
   "cell_type": "markdown",
   "metadata": {},
   "source": [
    "### TCR"
   ]
  },
  {
   "cell_type": "code",
   "execution_count": 25,
   "metadata": {},
   "outputs": [],
   "source": [
    "fInput = 'counts_tcr.tsv'\n",
    "df = pd.read_csv(fInput, delimiter='\\t', header=None)\n",
    "counts_tcr = np.array(df[0])"
   ]
  },
  {
   "cell_type": "code",
   "execution_count": 16,
   "metadata": {},
   "outputs": [],
   "source": [
    "hist_tcr,_ = np.histogram(counts_tcr, bins = np.arange(1,667))"
   ]
  },
  {
   "cell_type": "code",
   "execution_count": 17,
   "metadata": {},
   "outputs": [],
   "source": [
    "f_N = '/home/ruiz/Selection/Tcells_Analysis/Data/N_data.txt'\n",
    "df_N = pd.read_csv(f_N, delimiter='\\t')\n",
    "N = df_N['N']"
   ]
  },
  {
   "cell_type": "code",
   "execution_count": 19,
   "metadata": {},
   "outputs": [],
   "source": [
    "# Pgen Coefficients"
   ]
  },
  {
   "cell_type": "code",
   "execution_count": 20,
   "metadata": {},
   "outputs": [],
   "source": [
    "# Without selection"
   ]
  },
  {
   "cell_type": "code",
   "execution_count": 21,
   "metadata": {},
   "outputs": [],
   "source": [
    "Mpgen_tcr = np.array(pd.read_csv('M_pgen_tcr.tsv', delimiter='\\t', header=None)[0])"
   ]
  },
  {
   "cell_type": "code",
   "execution_count": 22,
   "metadata": {},
   "outputs": [],
   "source": [
    "Mpgen_tcr_error = []\n",
    "for element in Mpgen_tcr:\n",
    "    Mpgen_tcr_error.append(np.sqrt(element))"
   ]
  },
  {
   "cell_type": "code",
   "execution_count": 23,
   "metadata": {},
   "outputs": [],
   "source": [
    "# With selection"
   ]
  },
  {
   "cell_type": "code",
   "execution_count": 24,
   "metadata": {},
   "outputs": [],
   "source": [
    "df4 = pd.read_csv('inframe_generated_pgen.txt', delimiter='\\t')\n",
    "df4 = df4.dropna(subset=['pgen_aa'])\n",
    "df4 = df4[df4.pgen_aa > 1e-50]\n",
    "aa_hist, bins_aa = np.histogram(-np.log(df4.pgen_aa), bins=(1000), density=True)"
   ]
  },
  {
   "cell_type": "code",
   "execution_count": 25,
   "metadata": {},
   "outputs": [],
   "source": [
    "E_pg = bins_aa[:-1]\n",
    "P_pg = aa_hist\n",
    "exp_pg = np.exp(E_pg)\n",
    "g_pg = np.multiply(P_pg, exp_pg)"
   ]
  },
  {
   "cell_type": "code",
   "execution_count": 26,
   "metadata": {},
   "outputs": [],
   "source": [
    "q=0.037\n",
    "f=0.236\n",
    "delta=0.06948121765309878"
   ]
  },
  {
   "cell_type": "code",
   "execution_count": 27,
   "metadata": {},
   "outputs": [],
   "source": [
    "k=0\n",
    "integrand2=[]\n",
    "for i in range(500):\n",
    "    d=np.poly1d([0,1])\n",
    "    for k in range(len(N)):\n",
    "        a=b=0\n",
    "        a = 1-np.exp(-np.exp(-E_pg[i])*N[k]/(f*q))\n",
    "        b = np.exp(-np.exp(-E_pg[i])*N[k]/(f*q))\n",
    "        c = np.poly1d([a,b])\n",
    "        d=np.convolve(d,c)\n",
    "        coeff1=d\n",
    "    integrand2.append(g_pg[i]*f*q*delta*coeff1)"
   ]
  },
  {
   "cell_type": "code",
   "execution_count": 28,
   "metadata": {},
   "outputs": [],
   "source": [
    "coefficients2 = sum(integrand2)\n",
    "v = list(np.flip(coefficients2)[1:])\n",
    "Mpgen_q_tcr = np.array(v)"
   ]
  },
  {
   "cell_type": "code",
   "execution_count": 29,
   "metadata": {},
   "outputs": [],
   "source": [
    "Mpgen_q_tcr_error = []\n",
    "for element in Mpgen_q_tcr:\n",
    "    Mpgen_q_tcr_error.append(np.sqrt(element))"
   ]
  },
  {
   "cell_type": "code",
   "execution_count": 30,
   "metadata": {},
   "outputs": [],
   "source": [
    "# Ppost Coefficients"
   ]
  },
  {
   "cell_type": "code",
   "execution_count": 31,
   "metadata": {},
   "outputs": [],
   "source": [
    "df3 = pd.read_csv('generated_seqs_aa_ppost.txt', delimiter='\\t')\n",
    "df3 = df3.dropna(subset=['Ppost'])\n",
    "df3 = df3[df3.Ppost > 1e-50]\n",
    "aa_hist, bins_aa = np.histogram(-np.log(df3.Ppost), bins=(1000), density=True)"
   ]
  },
  {
   "cell_type": "code",
   "execution_count": 32,
   "metadata": {},
   "outputs": [],
   "source": [
    "E_pp = bins_aa[:-1]\n",
    "delta=E_pp[2]-E_pp[1]\n",
    "P_pp = aa_hist\n",
    "exp_pp = np.exp(E_pp)\n",
    "g_pp = np.multiply(P_pp, exp_pp)"
   ]
  },
  {
   "cell_type": "code",
   "execution_count": 33,
   "metadata": {},
   "outputs": [],
   "source": [
    "# Without q factor"
   ]
  },
  {
   "cell_type": "code",
   "execution_count": 34,
   "metadata": {},
   "outputs": [],
   "source": [
    "q=1\n",
    "f=0.236"
   ]
  },
  {
   "cell_type": "code",
   "execution_count": 35,
   "metadata": {},
   "outputs": [],
   "source": [
    "k=0\n",
    "integrand1=[]\n",
    "i=0\n",
    "for i in range(0,200):\n",
    "    d=np.poly1d([0,1])\n",
    "    for k in range(len(N)):\n",
    "        a=b=0\n",
    "        a = 1-np.exp(-np.exp(-E_pp[i])*N[k]/(f*q))\n",
    "        b = np.exp(-np.exp(-E_pp[i])*N[k]/(f*q))\n",
    "        c = np.poly1d([a,b])\n",
    "        d=np.convolve(d,c)\n",
    "        coeff1=d\n",
    "    integrand1.append(g_pp[i]*f*q*delta*coeff1)\n",
    "    \n",
    "coefficients = 0\n",
    "coefficients = sum(integrand1)    "
   ]
  },
  {
   "cell_type": "code",
   "execution_count": 36,
   "metadata": {},
   "outputs": [],
   "source": [
    "u = list(np.flip(coefficients)[1:666])\n",
    "Mpost_tcr = np.array(u)\n",
    "snumber_tcr = np.arange(1,666)"
   ]
  },
  {
   "cell_type": "code",
   "execution_count": 37,
   "metadata": {},
   "outputs": [],
   "source": [
    "Mpost_tcr_error = []\n",
    "for element in Mpost_tcr:\n",
    "    Mpost_tcr_error.append(np.sqrt(element))"
   ]
  },
  {
   "cell_type": "code",
   "execution_count": 38,
   "metadata": {},
   "outputs": [],
   "source": [
    "# With q factor"
   ]
  },
  {
   "cell_type": "code",
   "execution_count": 39,
   "metadata": {},
   "outputs": [],
   "source": [
    "q=0.472\n",
    "f=0.236"
   ]
  },
  {
   "cell_type": "code",
   "execution_count": 40,
   "metadata": {},
   "outputs": [],
   "source": [
    "k=0\n",
    "integrand1=[]\n",
    "i=0\n",
    "for i in range(0,350):\n",
    "    d=np.poly1d([0,1])\n",
    "    for k in range(len(N)):\n",
    "        a=b=0\n",
    "        a = 1-np.exp(-np.exp(-E_pp[i])*N[k]/(f*q))\n",
    "        b = np.exp(-np.exp(-E_pp[i])*N[k]/(f*q))\n",
    "        c = np.poly1d([a,b])\n",
    "        d=np.convolve(d,c)\n",
    "        coeff1=d\n",
    "    integrand1.append(g_pp[i]*f*q*delta*coeff1)\n",
    "    \n",
    "coefficients = 0\n",
    "coefficients = sum(integrand1)    "
   ]
  },
  {
   "cell_type": "code",
   "execution_count": 41,
   "metadata": {},
   "outputs": [],
   "source": [
    "u = list(np.flip(coefficients)[1:666])\n",
    "Mpost_q_tcr = np.array(u)\n",
    "snumber_tcr = np.arange(1,666)"
   ]
  },
  {
   "cell_type": "code",
   "execution_count": 42,
   "metadata": {},
   "outputs": [],
   "source": [
    "Mpost_q_tcr_error = []\n",
    "for element in Mpost_q_tcr:\n",
    "    Mpost_q_tcr_error.append(np.sqrt(element))"
   ]
  },
  {
   "cell_type": "markdown",
   "metadata": {},
   "source": [
    "### q comparison"
   ]
  },
  {
   "cell_type": "code",
   "execution_count": 43,
   "metadata": {},
   "outputs": [],
   "source": [
    "q_values = [0.475, 0.453, 0.538, 0.461, 0.443, 0.472]\n",
    "error = [7e-3, 6e-3, 1.2e-2, 7e-3, 1.1e-2,2e-3]\n",
    "labels = ['CMV- (all ages)','CMV+ (all ages)', 'Healthy (0-25)', 'Healthy (26-50)', 'Healthy (51-75)', 'Healthy (all ages)']\n",
    "x_pos = np.arange(len(labels))"
   ]
  },
  {
   "cell_type": "markdown",
   "metadata": {},
   "source": [
    "### Plots"
   ]
  },
  {
   "cell_type": "code",
   "execution_count": 44,
   "metadata": {},
   "outputs": [],
   "source": [
    "import matplotlib.pyplot as plt\n",
    "font={'size': 10, 'weight': 'normal', 'family': 'DejaVu Sans'}\n",
    "plt.rc('text', usetex=True)\n",
    "plt.rc('font', **font)"
   ]
  },
  {
   "cell_type": "code",
   "execution_count": 65,
   "metadata": {},
   "outputs": [
    {
     "name": "stderr",
     "output_type": "stream",
     "text": [
      "/home/ruiz/miniconda3/lib/python3.7/site-packages/ipykernel_launcher.py:21: UserWarning: Attempted to set non-positive bottom ylim on a log-scaled axis.\n",
      "Invalid limit will be ignored.\n"
     ]
    },
    {
     "data": {
      "image/png": "[encoded data removed]",
      "text/plain": [
       "<Figure size 792x216 with 3 Axes>"
      ]
     },
     "metadata": {
      "needs_background": "light"
     },
     "output_type": "display_data"
    }
   ],
   "source": [
    "fig, ((ax1,ax2,ax3)) = plt.subplots(1,3,figsize=(11,3))\n",
    "plt.rc('text', usetex=True)\n",
    "\n",
    "#Subplot 1\n",
    "\n",
    "ax1.plot(np.arange(counts_igm.min(), counts_igm.max()+1), hist_igm, '+', label='Healthy', color=sns.color_palette(\"Paired\")[1], markersize=6, mew=1)\n",
    "\n",
    "ax1.plot(snumber, hist_igm_sim, color='green',linestyle='-',linewidth = 1, label='$P_{\\mathrm gen}$ model')\n",
    "ax1.fill_between(snumber,hist_igm_sim-M_igm_nosel_error,hist_igm_sim+M_igm_nosel_error,alpha=0.3,color='lightgray')\n",
    "\n",
    "ax1.plot(snumber, M_igm_post, color=sns.color_palette(\"Paired\")[5],linewidth = .8, label='$P_{\\mathrm post}$ model')\n",
    "ax1.fill_between(snumber,M_igm_post-M_igm_post_error,M_igm_post+M_igm_post_error,alpha=0.3,color='lightcoral')\n",
    "\n",
    "ax1.set_yscale('log')\n",
    "ax1.set_xlabel('Sharing number')\n",
    "ax1.set_ylabel('Number of unique CDR3s',labelpad=12)\n",
    "ax1.set_title('Human IgM BCRs')\n",
    "\n",
    "ax1.legend(frameon=False)\n",
    "ax1.set_xlim([0.5,10.5])\n",
    "ax1.set_ylim([0,10e7])\n",
    "\n",
    "plt.setp(ax1.spines.values(), linewidth=.6)\n",
    "\n",
    "ax1.xaxis.set_tick_params(width=.6)\n",
    "ax1.yaxis.set_tick_params(width=.6)\n",
    "\n",
    "#Subplot 2\n",
    "\n",
    "ax2.plot(np.arange(counts_igg.min(), counts_igg.max()+1), hist_igg, '+',label='Healthy',color=sns.color_palette(\"Paired\")[1],markersize=6, mew=1)\n",
    "\n",
    "ax2.plot(snumber, hist_igg_sim, color='green',linestyle='-',linewidth = 1, label='$P_{\\mathrm gen}$ model')\n",
    "ax2.fill_between(snumber,hist_igg_sim-M_igg_nosel_error,hist_igg_sim+M_igg_nosel_error,alpha=0.3,color='lightgray')\n",
    "\n",
    "ax2.plot(snumber, M_igg_post, color=sns.color_palette(\"Paired\")[5],linewidth=.8, label='$P_{\\mathrm post}$ model')\n",
    "ax2.fill_between(snumber,M_igg_post-M_igg_post_error,M_igg_post+M_igg_post_error,alpha=0.3,color='lightcoral')\n",
    "\n",
    "\n",
    "ax2.set_yscale('log')\n",
    "ax2.set_xlabel('Sharing number')\n",
    "ax2.set_ylabel('Number of unique CDR3s',labelpad=12)\n",
    "ax2.set_title('Human IgG BCR')\n",
    "\n",
    "\n",
    "ax2.legend(frameon=False)\n",
    "ax2.set_xlim([0.5,10.5])\n",
    "ax2.set_ylim([0.5e1,1e7])\n",
    "\n",
    "plt.setp(ax2.spines.values(), linewidth=.6)\n",
    "\n",
    "ax2.xaxis.set_tick_params(width=.6)\n",
    "ax2.yaxis.set_tick_params(width=.6)\n",
    "\n",
    "# Subplot 3\n",
    "\n",
    "ax3.plot(snumber, hist_igmg,label='IgM', color=sns.color_palette(\"Paired\")[9],linewidth = .8)\n",
    "#ax3.fill_between(snumber, np.array(hist_igmg)-hist_igmg_error,np.array(hist_igmg)+hist_igmg_error, alpha=0.2, color=sns.color_palette(\"Paired\")[8])\n",
    "\n",
    "ax3.plot(snumber, hist_igg, color=sns.color_palette(\"Paired\")[3], label='IgG')\n",
    "#ax3.fill_between(snumber, np.array(hist_igg)-M_igg_post_error,np.array(hist_igg)+M_igg_post_error, alpha=0.2, color=sns.color_palette(\"Paired\")[2])\n",
    "\n",
    "ax3.set_yscale('log')\n",
    "ax3.set_xlabel('Sharing number')\n",
    "ax3.set_ylabel('Number of unique CDR3s',labelpad=12)\n",
    "ax3.set_title('IgM and IgG sharing comparison')\n",
    "\n",
    "ax3.legend(frameon=False)\n",
    "\n",
    "\n",
    "\n",
    "\n",
    "  \n",
    "# set the spacing between subplots\n",
    "plt.subplots_adjust(left=0.1,\n",
    "                    bottom=0.1, \n",
    "                    right=0.9, \n",
    "                    top=0.9, \n",
    "                    wspace=0.3, \n",
    "                    hspace=0.3)\n",
    "\n",
    "fig.savefig('/home/ruiz/Figure2_1.pdf',bbox_inches='tight')\n",
    "\n",
    "plt.show()"
   ]
  },
  {
   "cell_type": "code",
   "execution_count": 47,
   "metadata": {},
   "outputs": [
    {
     "data": {
      "image/png": "[encoded data removed]",
      "text/plain": [
       "<Figure size 792x216 with 3 Axes>"
      ]
     },
     "metadata": {
      "needs_background": "light"
     },
     "output_type": "display_data"
    }
   ],
   "source": [
    "fig, ((ax4,ax5,ax6)) = plt.subplots(1,3,figsize=(11,3))\n",
    "plt.rc('text', usetex=True)\n",
    "\n",
    "\n",
    "# Subplot 4\n",
    "\n",
    "ax4.plot(np.arange(1, 666), hist_tcr, '+', label='COVID-19',color=sns.color_palette(\"Paired\")[1],markersize=6, mew=1)\n",
    "\n",
    "ax4.plot(snumber_tcr, Mpgen_tcr, color=sns.color_palette(\"Paired\")[3],linestyle='-',linewidth = 1, label='$P_{\\mathrm gen}$ model')\n",
    "ax4.fill_between(snumber_tcr,Mpgen_tcr-Mpgen_tcr_error,Mpgen_tcr+Mpgen_tcr_error,alpha=0.3,color=sns.color_palette(\"Paired\")[2])\n",
    "\n",
    "ax4.plot(snumber_tcr, Mpgen_q_tcr, color='black',linestyle='-',linewidth = 1, label='$P_{\\mathrm gen} +$ selection factor')\n",
    "ax4.fill_between(snumber_tcr,Mpgen_q_tcr-Mpgen_q_tcr_error,Mpgen_q_tcr+Mpgen_q_tcr_error,alpha=0.3,color='lightgray')\n",
    "\n",
    "ax4.plot(snumber_tcr, Mpost_tcr, color=sns.color_palette(\"Paired\")[5], label='$P_{\\mathrm post}$ model')\n",
    "ax4.fill_between(snumber_tcr,Mpost_tcr-Mpost_tcr_error,Mpost_tcr+Mpost_tcr_error,alpha=0.7,color='lightcoral')\n",
    "\n",
    "ax4.plot(snumber_tcr, Mpost_q_tcr, color=sns.color_palette(\"Paired\")[7], label='$P_{\\mathrm post}$+selection factor')\n",
    "ax4.fill_between(snumber_tcr,Mpost_q_tcr-Mpost_q_tcr_error,Mpost_q_tcr+Mpost_q_tcr_error,alpha=0.7,color=sns.color_palette(\"Paired\")[6])\n",
    "\n",
    "\n",
    "\n",
    "ax4.set_yscale('log')\n",
    "ax4.set_xscale('log')\n",
    "ax4.set_xlabel('Sharing number')\n",
    "ax4.set_ylabel('Number of unique CDR3s',labelpad=12)\n",
    "ax4.set_title(r'Human TCR$\\beta$')\n",
    "\n",
    "ax4.legend(frameon=False, loc='lower left')\n",
    "ax4.set_xlim([0.5,700])\n",
    "ax4.set_ylim([0.5,10e7])\n",
    "\n",
    "plt.setp(ax4.spines.values(), linewidth=.6)\n",
    "\n",
    "ax4.xaxis.set_tick_params(width=.6)\n",
    "ax4.yaxis.set_tick_params(width=.6)\n",
    "\n",
    "# Subplot 5\n",
    "\n",
    "ax5.bar(x_pos, q_values,\n",
    "       yerr=error,\n",
    "       align='center',\n",
    "       alpha=0.7,\n",
    "       color = sns.color_palette(\"icefire\"),\n",
    "       error_kw=dict(lw=.6, capsize=3, capthick=.6))\n",
    "\n",
    "# statistical annotation\n",
    "x01_1, x01_2 = 0,1\n",
    "y1,h,col = 0.49, 0.002, 'k'\n",
    "x12_1, x12_2 = 1,1.9\n",
    "y2 = 0.56\n",
    "x23_1, x23_2 = 2.1,3\n",
    "y3 = y2\n",
    "x02_1, x02_2 = 0, 1.9\n",
    "y4 = 0.58\n",
    "x45_1, x45_2 = 4,5\n",
    "y5 = y1\n",
    "x24_1, x24_2 = 2.1, 4\n",
    "y6 = y4\n",
    "x25_1, x25_2 = 2.1,5\n",
    "y7 = 0.59\n",
    "x15_1, x15_2 = 1,5\n",
    "y8 = 0.6\n",
    "h2 = 0.0015\n",
    "\n",
    "ax5.plot([x01_1, x01_1, x01_2, x01_2], [y1, y1+h, y1+h, y1], lw=.6, c=col)\n",
    "ax5.text((x01_1+x01_2)*.5, y1+h2, 'p<0.05', ha='center', va='bottom', color=col)\n",
    "#plt.plot([x12_1, x12_1, x12_2, x12_2], [y2, y2+h, y2+h, y2], lw=.6, c=col)\n",
    "#plt.text((x12_1+x12_2)*.5, y2+h2, '**', ha='center', va='bottom', color=col)\n",
    "ax5.plot([x23_1, x23_1, x23_2, x23_2], [y3, y3+h, y3+h, y3], lw=.6, c=col)\n",
    "ax5.text((x23_1+x23_2)*.5, y3+h2, 'p<0.01', ha='center', va='bottom', color=col)\n",
    "#plt.plot([x02_1, x02_1, x02_2, x02_2], [y4, y4+h, y4+h, y4], lw=.6, c=col)\n",
    "#plt.text((x02_1+x02_2)*.5, y4+h2, '**', ha='center', va='bottom', color=col)\n",
    "#plt.plot([x45_1, x45_1, x45_2, x45_2], [y5, y5+h, y5+h, y5], lw=.6, c=col)\n",
    "#plt.text((x45_1+x45_2)*.5, y5+h2, '*', ha='center', va='bottom', color=col)\n",
    "ax5.plot([x24_1, x24_1, x24_2, x24_2], [y6, y6+h, y6+h, y6], lw=.6, c=col)\n",
    "ax5.text((x24_1+x24_2)*.5, y6+h2, 'p<0.001', ha='center', va='bottom', color=col)\n",
    "#plt.plot([x25_1, x25_1, x25_2, x25_2], [y7, y7+h, y7+h, y7], lw=.6, c=col)\n",
    "#plt.text((x25_1+x25_2)*.5, y7+h2, '**', ha='center', va='bottom', color=col)\n",
    "#plt.plot([x15_1, x15_1, x15_2, x15_2], [y8, y8+h, y8+h, y8], lw=.6, c=col)\n",
    "#plt.text((x15_1+x15_2)*.5, y8+h2, '**', ha='center', va='bottom', color=col)\n",
    "\n",
    "ax5.set_xticks(x_pos)\n",
    "ax5.set_xticklabels(labels)\n",
    "ax5.set_ylabel('q')\n",
    "\n",
    "ax5.set(ylim=(0.42, 0.605))\n",
    "ax5.set_xticklabels(ax5.get_xticklabels(), rotation=40, ha=\"right\")\n",
    "\n",
    "plt.setp(ax5.spines.values(), linewidth=.6)\n",
    "\n",
    "ax5.xaxis.set_tick_params(width=.6)\n",
    "ax5.yaxis.set_tick_params(width=.6)\n",
    "\n",
    "# set the spacing between subplots\n",
    "plt.subplots_adjust(left=0.1,\n",
    "                    bottom=0.1, \n",
    "                    right=0.9, \n",
    "                    top=0.9, \n",
    "                    wspace=0.3, \n",
    "                    hspace=0.3)\n",
    "\n",
    "fig.savefig('/home/ruiz/Figure2_2.pdf',bbox_inches='tight')\n",
    "\n",
    "plt.show()\n"
   ]
  },
  {
   "cell_type": "code",
   "execution_count": null,
   "metadata": {},
   "outputs": [],
   "source": [
    "# tighten layout\n",
    "\n",
    "plt.tight_layout(h_pad=1, w_pad=4, pad=2)\n",
    "\n",
    "# Add panel labels\n",
    "x1=.00\n",
    "x2=.33\n",
    "x3=.66\n",
    "\n",
    "y1=.97\n",
    "\n",
    "kwargs = {'fontsize':45, 'horizontalalignment':'left', 'verticalalignment':'top','weight' : 'bold'}\n",
    "\n",
    "plt.figtext(x1, y1,'A', **kwargs)\n",
    "plt.figtext(x2, y1,'B', **kwargs)\n",
    "plt.fio gtext(x3, y1,'C', **kwargs)"
   ]
  }
 ],
 "metadata": {
  "kernelspec": {
   "display_name": "Python 3 (ipykernel)",
   "language": "python",
   "name": "python3"
  },
  "language_info": {
   "codemirror_mode": {
    "name": "ipython",
    "version": 3
   },
   "file_extension": ".py",
   "mimetype": "text/x-python",
   "name": "python",
   "nbconvert_exporter": "python",
   "pygments_lexer": "ipython3",
   "version": "3.7.11"
  }
 },
 "nbformat": 4,
 "nbformat_minor": 4
}
