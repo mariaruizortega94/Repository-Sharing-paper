{
 "cells": [
  {
   "cell_type": "code",
   "execution_count": 1,
   "metadata": {},
   "outputs": [
    {
     "name": "stderr",
     "output_type": "stream",
     "text": [
      "2022-02-15 15:45:49.103795: W tensorflow/stream_executor/platform/default/dso_loader.cc:64] Could not load dynamic library 'libcudart.so.11.0'; dlerror: libcudart.so.11.0: cannot open shared object file: No such file or directory; LD_LIBRARY_PATH: /usr/local/lib:\n",
      "2022-02-15 15:45:49.103830: I tensorflow/stream_executor/cuda/cudart_stub.cc:29] Ignore above cudart dlerror if you do not have a GPU set up on your machine.\n"
     ]
    }
   ],
   "source": [
    "import pandas as pd\n",
    "import numpy as np\n",
    "import matplotlib\n",
    "import matplotlib.pyplot as plt\n",
    "import seaborn as sns\n",
    "import mpl_scatter_density # adds projection='scatter_density'\n",
    "from matplotlib.colors import LinearSegmentedColormap\n",
    "import sys\n",
    "from sonia.sonia_leftpos_rightpos import SoniaLeftposRightpos\n",
    "from sonia.evaluate_model import EvaluateModel\n",
    "from sonia.sequence_generation import SequenceGeneration\n",
    "from sonia.plotting import Plotter\n",
    "get_ipython().magic(u'matplotlib inline')"
   ]
  },
  {
   "cell_type": "markdown",
   "metadata": {},
   "source": [
    "### Sharing Plot"
   ]
  },
  {
   "cell_type": "code",
   "execution_count": 2,
   "metadata": {},
   "outputs": [],
   "source": [
    "N = pd.read_csv('N_ancestors.txt', header=None, delimiter='\\t')"
   ]
  },
  {
   "cell_type": "code",
   "execution_count": 3,
   "metadata": {},
   "outputs": [],
   "source": [
    "f1 = pd.read_csv('ppost_cdr3aa_igg_coeff.txt', delimiter='\\t')\n",
    "f1 = f1.dropna(subset=['ppost'])\n",
    "f1 = f1[f1.ppost > 1e-50]\n",
    "aa_hist, bins_aa = np.histogram(-np.log(f1.ppost), bins=(1000), density=True)\n",
    "\n",
    "Epost = bins_aa[:-1]\n",
    "Ppost = aa_hist\n",
    "expost = np.exp(Epost)\n",
    "gpost = np.multiply(Ppost, expost)\n",
    "delta = Epost[2]-Epost[1]"
   ]
  },
  {
   "cell_type": "code",
   "execution_count": 4,
   "metadata": {},
   "outputs": [],
   "source": [
    "f=0.14\n",
    "q=1\n",
    "k=0\n",
    "integrand1=0\n",
    "\n",
    "for i in range(0,400):\n",
    "    d=np.poly1d([0,1])\n",
    "    for k in range(len(N)):\n",
    "        a=b=0\n",
    "        a = 1-np.exp(-np.exp(-Epost[i])*N[k]/(f*q))\n",
    "        b = np.exp(-np.exp(-Epost[i])*N[k]/(f*q))\n",
    "        c = np.poly1d([a,b])\n",
    "        d=np.convolve(d,c)\n",
    "    integrand1+=gpost[i]*f*q*delta*d"
   ]
  },
  {
   "cell_type": "code",
   "execution_count": 5,
   "metadata": {},
   "outputs": [],
   "source": [
    "x = list(np.flip(integrand1))\n",
    "y = np.zeros(32)\n",
    "x=np.array(x[1:13])"
   ]
  },
  {
   "cell_type": "code",
   "execution_count": 6,
   "metadata": {},
   "outputs": [],
   "source": [
    "M = np.concatenate((x,y), axis=None)\n",
    "snumber =  np.array(range(1,45))\n",
    "\n",
    "M_error = []\n",
    "for element in M:\n",
    "    M_error.append(np.sqrt(element))"
   ]
  },
  {
   "cell_type": "code",
   "execution_count": 4,
   "metadata": {},
   "outputs": [],
   "source": [
    "fInput = 'counts_covid.txt'\n",
    "fData = np.loadtxt(fInput,skiprows=0,usecols=0,dtype=str)\n",
    "array = np.array(fData)\n",
    "unique, index, inverse, counts_covid = np.unique(array, return_index = True, return_inverse = True, return_counts = True)"
   ]
  },
  {
   "cell_type": "code",
   "execution_count": 8,
   "metadata": {},
   "outputs": [],
   "source": [
    "hist_covid,_ = np.histogram(counts_covid, bins = np.arange(counts_covid.min(), counts_covid.max()+2))"
   ]
  },
  {
   "cell_type": "markdown",
   "metadata": {},
   "source": [
    "### Significance plot"
   ]
  },
  {
   "cell_type": "code",
   "execution_count": 9,
   "metadata": {},
   "outputs": [],
   "source": [
    "fInput = 'total_covid_igg_cdr3aa_vj_shifted.txt'\n",
    "df = pd.read_csv(fInput, delimiter='\\t')\n",
    "ppost = df['ppost']/2.9e-12\n",
    "\n",
    "df2 = df.loc[df['p']<1e-4, ['ppost','pdata']]\n",
    "ppost2 = ppost\n",
    "pdata2 = df2['pdata']"
   ]
  },
  {
   "cell_type": "code",
   "execution_count": 11,
   "metadata": {},
   "outputs": [],
   "source": [
    "fInput = '/home/ruiz/Sharing/SARS-CoV-2/All_datasets/x>1/Igg_pdata.txt'\n",
    "df = pd.read_csv(fInput, delimiter='\\t', header=None)\n",
    "pdata = df[0]"
   ]
  },
  {
   "cell_type": "code",
   "execution_count": 12,
   "metadata": {},
   "outputs": [],
   "source": [
    "# \"Viridis-like\" colormap with white background\n",
    "white_viridis = LinearSegmentedColormap.from_list('white_viridis', [\n",
    "    (0, '#ffffff'),\n",
    "    (1e-20, '#440053'),\n",
    "    (0.2, '#404388'),\n",
    "    (0.4, '#2a788e'),\n",
    "    (0.6, '#21a784'),\n",
    "    (0.8, '#78d151'),\n",
    "    (1, '#fde624'),\n",
    "], N=256)"
   ]
  },
  {
   "cell_type": "code",
   "execution_count": 13,
   "metadata": {},
   "outputs": [],
   "source": [
    "x = np.log10(pdata)\n",
    "y = np.log10(ppost)\n",
    "x2 = np.log10(pdata2)\n",
    "y2 = np.log10(ppost2)"
   ]
  },
  {
   "cell_type": "markdown",
   "metadata": {},
   "source": [
    "### Model statistics"
   ]
  },
  {
   "cell_type": "code",
   "execution_count": 14,
   "metadata": {},
   "outputs": [],
   "source": [
    "# COVID19 & Healthy models"
   ]
  },
  {
   "cell_type": "code",
   "execution_count": 15,
   "metadata": {},
   "outputs": [
    {
     "name": "stderr",
     "output_type": "stream",
     "text": [
      "2021-12-13 15:49:23.452865: W tensorflow/stream_executor/platform/default/dso_loader.cc:64] Could not load dynamic library 'libcuda.so.1'; dlerror: libcuda.so.1: cannot open shared object file: No such file or directory; LD_LIBRARY_PATH: /usr/local/lib:\n",
      "2021-12-13 15:49:23.452899: W tensorflow/stream_executor/cuda/cuda_driver.cc:269] failed call to cuInit: UNKNOWN ERROR (303)\n",
      "2021-12-13 15:49:23.452926: I tensorflow/stream_executor/cuda/cuda_diagnostics.cc:156] kernel driver does not appear to be running on this host (zuzia): /proc/driver/nvidia/version does not exist\n",
      "2021-12-13 15:49:23.453178: I tensorflow/core/platform/cpu_feature_guard.cc:142] This TensorFlow binary is optimized with oneAPI Deep Neural Network Library (oneDNN) to use the following CPU instructions in performance-critical operations:  AVX2 FMA\n",
      "To enable them in other operations, rebuild TensorFlow with the appropriate compiler flags.\n"
     ]
    }
   ],
   "source": [
    "# COVID-19 (all sequences)\n",
    "\n",
    "qm_osb = SoniaLeftposRightpos(load_dir='Ppost_model_Osbourn',chain_type='humanIGH')\n",
    "initial_osb=np.array([s[0][0] for s in qm_osb.features])\n",
    "l_length_osb=len(np.arange(len(initial_osb))[initial_osb=='l'])\n",
    "a_length_osb=len(np.arange(len(initial_osb))[initial_osb=='a'])\n",
    "vj_length_osb=len(np.arange(len(initial_osb))[initial_osb=='v'])\n",
    "\n",
    "vj_features_osb=np.array(qm_osb.features[-vj_length_osb:])\n",
    "v_genes_osb=[]\n",
    "j_genes_osb=[]\n",
    "for feat in vj_features_osb:\n",
    "    if not feat[1] in j_genes_osb: j_genes_osb.append(feat[1])\n",
    "    if not feat[0] in v_genes_osb: v_genes_osb.append(feat[0])\n",
    "vj_data_marginals_osb=np.array(qm_osb.data_marginals[-vj_length_osb:]).reshape(len(v_genes_osb),len(j_genes_osb))\n",
    "\n",
    "qm_boy = SoniaLeftposRightpos(load_dir='Ppost_model_Boyd',chain_type='humanIGH')\n",
    "initial_boy=np.array([s[0][0] for s in qm_boy.features])\n",
    "l_length_boy=len(np.arange(len(initial_boy))[initial_boy=='l'])\n",
    "a_length_boy=len(np.arange(len(initial_boy))[initial_boy=='a'])\n",
    "vj_length_boy=len(np.arange(len(initial_boy))[initial_boy=='v'])\n",
    "\n",
    "vj_features_boy=np.array(qm_boy.features[-vj_length_boy:])\n",
    "v_genes_boy=[]\n",
    "j_genes_boy=[]\n",
    "for feat in vj_features_boy:\n",
    "    if not feat[1] in j_genes_boy: j_genes_boy.append(feat[1])\n",
    "    if not feat[0] in v_genes_boy: v_genes_boy.append(feat[0])\n",
    "vj_data_marginals_boy=np.array(qm_boy.data_marginals[-vj_length_boy:]).reshape(len(v_genes_boy),len(j_genes_boy))\n",
    "\n",
    "qm_mok = SoniaLeftposRightpos(load_dir='Ppost_model_Mok',chain_type='humanIGH')\n",
    "initial_mok=np.array([s[0][0] for s in qm_mok.features])\n",
    "l_length_mok=len(np.arange(len(initial_mok))[initial_mok=='l'])\n",
    "a_length_mok=len(np.arange(len(initial_mok))[initial_mok=='a'])\n",
    "vj_length_mok=len(np.arange(len(initial_mok))[initial_mok=='v'])\n",
    "\n",
    "vj_features_mok=np.array(qm_mok.features[-vj_length_mok:])\n",
    "v_genes_mok=[]\n",
    "j_genes_mok=[]\n",
    "for feat in vj_features_mok:\n",
    "    if not feat[1] in j_genes_mok: j_genes_mok.append(feat[1])\n",
    "    if not feat[0] in v_genes_mok: v_genes_mok.append(feat[0])\n",
    "vj_data_marginals_mok=np.array(qm_mok.data_marginals[-vj_length_mok:]).reshape(len(v_genes_mok),len(j_genes_mok))"
   ]
  },
  {
   "cell_type": "code",
   "execution_count": 16,
   "metadata": {},
   "outputs": [],
   "source": [
    "# Healthy (all sequences)\n",
    "\n",
    "qm_h1 = SoniaLeftposRightpos(load_dir='Ppost_model_healthy/sample1',chain_type='humanIGH')\n",
    "initial_h1=np.array([s[0][0] for s in qm_h1.features])\n",
    "l_length_h1=len(np.arange(len(initial_h1))[initial_h1=='l'])\n",
    "a_length_h1=len(np.arange(len(initial_h1))[initial_h1=='a'])\n",
    "vj_length_h1=len(np.arange(len(initial_h1))[initial_h1=='v'])\n",
    "\n",
    "vj_features_h1=np.array(qm_h1.features[-vj_length_h1:])\n",
    "v_genes_h1=[]\n",
    "j_genes_h1=[]\n",
    "for feat in vj_features_h1:\n",
    "    if not feat[1] in j_genes_h1: j_genes_h1.append(feat[1])\n",
    "    if not feat[0] in v_genes_h1: v_genes_h1.append(feat[0])\n",
    "vj_data_marginals_h1=np.array(qm_h1.data_marginals[-vj_length_h1:]).reshape(len(v_genes_h1),len(j_genes_h1))\n",
    "\n",
    "qm_h2 = SoniaLeftposRightpos(load_dir='Ppost_model_healthy/sample2',chain_type='humanIGH')\n",
    "initial_h2=np.array([s[0][0] for s in qm_h2.features])\n",
    "l_length_h2=len(np.arange(len(initial_h2))[initial_h2=='l'])\n",
    "a_length_h2=len(np.arange(len(initial_h2))[initial_h2=='a'])\n",
    "vj_length_h2=len(np.arange(len(initial_h2))[initial_h2=='v'])\n",
    "\n",
    "vj_features_h2=np.array(qm_h2.features[-vj_length_h2:])\n",
    "v_genes_h2=[]\n",
    "j_genes_h2=[]\n",
    "for feat in vj_features_h2:\n",
    "    if not feat[1] in j_genes_h2: j_genes_h2.append(feat[1])\n",
    "    if not feat[0] in v_genes_h2: v_genes_h2.append(feat[0])\n",
    "vj_data_marginals_h2=np.array(qm_h2.data_marginals[-vj_length_h2:]).reshape(len(v_genes_h2),len(j_genes_h2))\n",
    "\n",
    "qm_h3 = SoniaLeftposRightpos(load_dir='Ppost_model_healthy/sample3',chain_type='humanIGH')\n",
    "initial_h3=np.array([s[0][0] for s in qm_h3.features])\n",
    "l_length_h3=len(np.arange(len(initial_h3))[initial_h3=='l'])\n",
    "a_length_h3=len(np.arange(len(initial_h3))[initial_h3=='a'])\n",
    "vj_length_h3=len(np.arange(len(initial_h3))[initial_h3=='v'])\n",
    "\n",
    "vj_features_h3=np.array(qm_h3.features[-vj_length_h3:])\n",
    "v_genes_h3=[]\n",
    "j_genes_h3=[]\n",
    "for feat in vj_features_h3:\n",
    "    if not feat[1] in j_genes_h3: j_genes_h3.append(feat[1])\n",
    "    if not feat[0] in v_genes_h3: v_genes_h3.append(feat[0])\n",
    "vj_data_marginals_h3=np.array(qm_h3.data_marginals[-vj_length_h3:]).reshape(len(v_genes_h3),len(j_genes_h3))\n",
    "\n",
    "qm_h4 = SoniaLeftposRightpos(load_dir='Ppost_model_healthy/sample4',chain_type='humanIGH')\n",
    "initial_h4=np.array([s[0][0] for s in qm_h4.features])\n",
    "l_length_h4=len(np.arange(len(initial_h4))[initial_h4=='l'])\n",
    "a_length_h4=len(np.arange(len(initial_h4))[initial_h4=='a'])\n",
    "vj_length_h4=len(np.arange(len(initial_h4))[initial_h4=='v'])\n",
    "\n",
    "vj_features_h4=np.array(qm_h4.features[-vj_length_h4:])\n",
    "v_genes_h4=[]\n",
    "j_genes_h4=[]\n",
    "for feat in vj_features_h4:\n",
    "    if not feat[1] in j_genes_h4: j_genes_h4.append(feat[1])\n",
    "    if not feat[0] in v_genes_h4: v_genes_h4.append(feat[0])\n",
    "vj_data_marginals_h4=np.array(qm_h4.data_marginals[-vj_length_h4:]).reshape(len(v_genes_h4),len(j_genes_h4))\n",
    "\n",
    "qm_h = SoniaLeftposRightpos(load_dir='Ppost_model_healthy/sample5',chain_type='humanIGH')\n",
    "initial_h=np.array([s[0][0] for s in qm_h.features])\n",
    "l_length_h=len(np.arange(len(initial_h))[initial_h=='l'])\n",
    "a_length_h=len(np.arange(len(initial_h))[initial_h=='a'])\n",
    "vj_length_h=len(np.arange(len(initial_h))[initial_h=='v'])\n",
    "\n",
    "vj_features_h=np.array(qm_h.features[-vj_length_h:])\n",
    "v_genes_h=[]\n",
    "j_genes_h=[]\n",
    "for feat in vj_features_h:\n",
    "    if not feat[1] in j_genes_h: j_genes_h.append(feat[1])\n",
    "    if not feat[0] in v_genes_h: v_genes_h.append(feat[0])\n",
    "vj_data_marginals_h=np.array(qm_h.data_marginals[-vj_length_h:]).reshape(len(v_genes_h),len(j_genes_h))"
   ]
  },
  {
   "cell_type": "code",
   "execution_count": 17,
   "metadata": {},
   "outputs": [],
   "source": [
    "# COVID-19 Overshared\n",
    "\n",
    "qm_s = SoniaLeftposRightpos(load_dir='Ppost_model_significant',chain_type='humanIGH')\n",
    "initial_s=np.array([s[0][0] for s in qm_s.features])\n",
    "l_length_s=len(np.arange(len(initial_s))[initial_s=='l'])\n",
    "a_length_s=len(np.arange(len(initial_s))[initial_s=='a'])\n",
    "vj_length_s=len(np.arange(len(initial_s))[initial_s=='v'])\n",
    "\n",
    "vj_features_s=np.array(qm_s.features[-vj_length_s:])\n",
    "v_genes_s=[]\n",
    "j_genes_s=[]\n",
    "for feat in vj_features_s:\n",
    "    if not feat[1] in j_genes_s: j_genes_s.append(feat[1])\n",
    "    if not feat[0] in v_genes_s: v_genes_s.append(feat[0])\n",
    "vj_data_marginals_s=np.array(qm_s.data_marginals[-vj_length_s:]).reshape(len(v_genes_s),len(j_genes_s))"
   ]
  },
  {
   "cell_type": "code",
   "execution_count": 18,
   "metadata": {},
   "outputs": [
    {
     "name": "stdout",
     "output_type": "stream",
     "text": [
      "Cannot find gen_seqs.tsv  --  no generated seqs loaded.\n"
     ]
    }
   ],
   "source": [
    "# Healthy Overshared\n",
    "\n",
    "qm_h_s = SoniaLeftposRightpos(load_dir='Ppost_model_healthy/significant',chain_type='humanIGH')\n",
    "initial_h_s=np.array([h[0][0] for h in qm_h_s.features])\n",
    "l_length_h_s=len(np.arange(len(initial_h_s))[initial_h_s=='l'])\n",
    "a_length_h_s=len(np.arange(len(initial_h_s))[initial_h_s=='a'])\n",
    "vj_length_h_s=len(np.arange(len(initial_h_s))[initial_h_s=='v'])\n",
    "\n",
    "vj_features_h_s=np.array(qm_h_s.features[-vj_length_h_s:])\n",
    "v_genes_h_s=[]\n",
    "j_genes_h_s=[]\n",
    "for feat in vj_features_h_s:\n",
    "    if not feat[1] in j_genes_h_s: j_genes_h_s.append(feat[1])\n",
    "    if not feat[0] in v_genes_h_s: v_genes_h_s.append(feat[0])\n",
    "vj_data_marginals_h_s=np.array(qm_h_s.data_marginals[-vj_length_h_s:]).reshape(len(v_genes_h_s),len(j_genes_h_s))"
   ]
  },
  {
   "cell_type": "code",
   "execution_count": 19,
   "metadata": {},
   "outputs": [],
   "source": [
    "v_genes_s = [x.replace('v', 'IGHV') for x in v_genes_s]\n",
    "v_genes_h = [x.replace('v', 'IGHV') for x in v_genes_h]\n",
    "v_genes_h1 = [x.replace('v', 'IGHV') for x in v_genes_h1]\n",
    "v_genes_h2 = [x.replace('v', 'IGHV') for x in v_genes_h2]\n",
    "v_genes_h3 = [x.replace('v', 'IGHV') for x in v_genes_h3]\n",
    "v_genes_h4 = [x.replace('v', 'IGHV') for x in v_genes_h4]\n",
    "v_genes_osb = [x.replace('v', 'IGHV') for x in v_genes_osb]\n",
    "v_genes_boy = [x.replace('v', 'IGHV') for x in v_genes_boy]\n",
    "v_genes_mok = [x.replace('v', 'IGHV') for x in v_genes_mok]\n",
    "j_genes_h = [y.replace('j', 'IGHJ') for y in j_genes_h]\n",
    "j_genes_s = [y.replace('j', 'IGHJ') for y in j_genes_s]\n",
    "j_genes_h1 = [y.replace('j', 'IGHJ') for y in j_genes_h1]\n",
    "j_genes_h2 = [y.replace('j', 'IGHJ') for y in j_genes_h2]\n",
    "j_genes_h3 = [y.replace('j', 'IGHJ') for y in j_genes_h3]\n",
    "j_genes_h4 = [y.replace('j', 'IGHJ') for y in j_genes_h4]\n",
    "j_genes_osb = [y.replace('j', 'IGHJ') for y in j_genes_osb]\n",
    "j_genes_boy = [y.replace('j', 'IGHJ') for y in j_genes_boy]\n",
    "j_genes_mok = [y.replace('j', 'IGHJ') for y in j_genes_mok]"
   ]
  },
  {
   "cell_type": "code",
   "execution_count": 20,
   "metadata": {},
   "outputs": [],
   "source": [
    "orderv_osb=np.argsort(vj_data_marginals_osb.mean(axis=1))[::-1]\n",
    "orderv_boy=np.argsort(vj_data_marginals_boy.mean(axis=1))[::-1]\n",
    "orderv_mok=np.argsort(vj_data_marginals_mok.mean(axis=1))[::-1]\n",
    "orderv_h=np.argsort(vj_data_marginals_h.mean(axis=1))[::-1]\n",
    "orderv_s=np.argsort(vj_data_marginals_s.mean(axis=1))[::-1]\n",
    "orderv_h1=np.argsort(vj_data_marginals_h1.mean(axis=1))[::-1]\n",
    "orderv_h2=np.argsort(vj_data_marginals_h2.mean(axis=1))[::-1]\n",
    "orderv_h3=np.argsort(vj_data_marginals_h3.mean(axis=1))[::-1]\n",
    "orderv_h4=np.argsort(vj_data_marginals_h4.mean(axis=1))[::-1]\n",
    "\n",
    "df_PV_osb = pd.Series(dict(zip(np.array(v_genes_osb)[orderv_osb], vj_data_marginals_osb.sum(axis=1)[orderv_osb]))).to_frame(\"pV\")\n",
    "df_PV_boy = pd.Series(dict(zip(np.array(v_genes_boy)[orderv_boy], vj_data_marginals_boy.sum(axis=1)[orderv_boy]))).to_frame(\"pV\")\n",
    "df_PV_mok = pd.Series(dict(zip(np.array(v_genes_mok)[orderv_mok], vj_data_marginals_mok.sum(axis=1)[orderv_mok]))).to_frame(\"pV\")\n",
    "df_PV_s = pd.Series(dict(zip(np.array(v_genes_s)[orderv_s], vj_data_marginals_s.sum(axis=1)[orderv_s]))).to_frame(\"pV\")\n",
    "df_PV_h = pd.Series(dict(zip(np.array(v_genes_h)[orderv_h], vj_data_marginals_h.sum(axis=1)[orderv_h]))).to_frame(\"pV\")\n",
    "df_PV_h1 = pd.Series(dict(zip(np.array(v_genes_h1)[orderv_h1], vj_data_marginals_h1.sum(axis=1)[orderv_h1]))).to_frame(\"pV\")\n",
    "df_PV_h2 = pd.Series(dict(zip(np.array(v_genes_h2)[orderv_h2], vj_data_marginals_h2.sum(axis=1)[orderv_h2]))).to_frame(\"pV\")\n",
    "df_PV_h3 = pd.Series(dict(zip(np.array(v_genes_h3)[orderv_h3], vj_data_marginals_h3.sum(axis=1)[orderv_h3]))).to_frame(\"pV\")\n",
    "df_PV_h4 = pd.Series(dict(zip(np.array(v_genes_h4)[orderv_h4], vj_data_marginals_h4.sum(axis=1)[orderv_h4]))).to_frame(\"pV\")\n"
   ]
  },
  {
   "cell_type": "code",
   "execution_count": 21,
   "metadata": {},
   "outputs": [
    {
     "data": {
      "text/plain": [
       "IGHV3-23      0.110797\n",
       "IGHV4-59      0.066330\n",
       "IGHV4-34      0.060589\n",
       "IGHV3-30      0.057674\n",
       "IGHV1-2       0.054135\n",
       "                ...   \n",
       "IGHV6-1       0.025490\n",
       "IGHV3-74      0.021194\n",
       "IGHV4-30-4    0.019189\n",
       "IGHV5-51      0.011886\n",
       "IGHV3-11      0.010311\n",
       "Name: pV, Length: 238, dtype: float64"
      ]
     },
     "execution_count": 21,
     "metadata": {},
     "output_type": "execute_result"
    }
   ],
   "source": [
    "listOfStrings1 = ['Covid-19' for i in range(75)]\n",
    "listOfStrings2 = ['Healthy' for i in range(75)]\n",
    "listOfStrings3 = ['Covid-19 Significant' for i in range(75)]\n",
    "\n",
    "\n",
    "df_PV_osb['diagnosis'] = listOfStrings1\n",
    "df_PV_boy['diagnosis'] = listOfStrings1\n",
    "df_PV_mok['diagnosis'] = listOfStrings1\n",
    "df_PV_s['diagnosis'] = listOfStrings3\n",
    "df_PV_h['diagnosis'] = listOfStrings2\n",
    "df_PV_h1['diagnosis'] = listOfStrings2\n",
    "df_PV_h2['diagnosis'] = listOfStrings2\n",
    "df_PV_h3['diagnosis'] = listOfStrings2\n",
    "df_PV_h4['diagnosis'] = listOfStrings2\n",
    "\n",
    "\n",
    "df_PV_f1 = df_PV_h.append(df_PV_h1)\n",
    "df_PV_f2 = df_PV_f1.append(df_PV_h2)\n",
    "df_PV_f3 = df_PV_f2.append(df_PV_h3)\n",
    "df_PV_f4 = df_PV_f3.append(df_PV_h4)\n",
    "df_PV_f5 = df_PV_f4.append(df_PV_osb)\n",
    "df_PV_f6 = df_PV_f5.append(df_PV_boy)\n",
    "df_PV_f7 = df_PV_f6.append(df_PV_mok)\n",
    "df_PV_f = df_PV_f7.append(df_PV_s)\n",
    "\n",
    "df_PV_f.loc[df_PV_f['pV']>0.01,:].pV"
   ]
  },
  {
   "cell_type": "code",
   "execution_count": 22,
   "metadata": {},
   "outputs": [],
   "source": [
    "orderj_osb=np.argsort(vj_data_marginals_osb.mean(axis=0))[::-1]\n",
    "orderj_boy=np.argsort(vj_data_marginals_boy.mean(axis=0))[::-1]\n",
    "orderj_mok=np.argsort(vj_data_marginals_mok.mean(axis=0))[::-1]\n",
    "orderj_s=np.argsort(vj_data_marginals_s.mean(axis=0))[::-1]\n",
    "orderj_h=np.argsort(vj_data_marginals_h.mean(axis=0))[::-1]\n",
    "orderj_h1=np.argsort(vj_data_marginals_h1.mean(axis=0))[::-1]\n",
    "orderj_h2=np.argsort(vj_data_marginals_h2.mean(axis=0))[::-1]\n",
    "orderj_h3=np.argsort(vj_data_marginals_h3.mean(axis=0))[::-1]\n",
    "orderj_h4=np.argsort(vj_data_marginals_h4.mean(axis=0))[::-1]\n",
    "\n",
    "\n",
    "df_PJ_osb = pd.Series(dict(zip(np.array(j_genes_osb)[orderj_osb], vj_data_marginals_osb.sum(axis=0)[orderj_osb]))).to_frame(\"pJ\")\n",
    "df_PJ_boy = pd.Series(dict(zip(np.array(j_genes_boy)[orderj_boy], vj_data_marginals_boy.sum(axis=0)[orderj_boy]))).to_frame(\"pJ\")\n",
    "df_PJ_mok = pd.Series(dict(zip(np.array(j_genes_mok)[orderj_mok], vj_data_marginals_mok.sum(axis=0)[orderj_mok]))).to_frame(\"pJ\")\n",
    "df_PJ_s = pd.Series(dict(zip(np.array(j_genes_s)[orderj_s], vj_data_marginals_s.sum(axis=0)[orderj_s]))).to_frame(\"pJ\")\n",
    "df_PJ_h = pd.Series(dict(zip(np.array(j_genes_h)[orderj_h], vj_data_marginals_h.sum(axis=0)[orderj_h]))).to_frame(\"pJ\")\n",
    "df_PJ_h1 = pd.Series(dict(zip(np.array(j_genes_h1)[orderj_h1], vj_data_marginals_h1.sum(axis=0)[orderj_h1]))).to_frame(\"pJ\")\n",
    "df_PJ_h2 = pd.Series(dict(zip(np.array(j_genes_h2)[orderj_h2], vj_data_marginals_h2.sum(axis=0)[orderj_h2]))).to_frame(\"pJ\")\n",
    "df_PJ_h3 = pd.Series(dict(zip(np.array(j_genes_h3)[orderj_h3], vj_data_marginals_h3.sum(axis=0)[orderj_h3]))).to_frame(\"pJ\")\n",
    "df_PJ_h4 = pd.Series(dict(zip(np.array(j_genes_h4)[orderj_h4], vj_data_marginals_h4.sum(axis=0)[orderj_h4]))).to_frame(\"pJ\")\n",
    "#df_PJ_h_s = pd.Series(dict(zip(np.array(j_genes_h_s)[orderj_h_s], vj_data_marginals_h_s.sum(axis=0)[orderj_h_s]))).to_frame(\"pJ\")"
   ]
  },
  {
   "cell_type": "code",
   "execution_count": 23,
   "metadata": {},
   "outputs": [],
   "source": [
    "listOfStrings4 = ['Covid-19 Significant' for i in range(6)]\n",
    "listOfStrings5 = ['Covid-19' for i in range(6)]\n",
    "listOfStrings6 = ['Healthy' for i in range(6)]\n",
    "\n",
    "df_PJ_osb['diagnosis'] = listOfStrings5\n",
    "df_PJ_boy['diagnosis'] = listOfStrings5\n",
    "df_PJ_mok['diagnosis'] = listOfStrings5\n",
    "df_PJ_s['diagnosis'] = listOfStrings4\n",
    "df_PJ_h['diagnosis'] = listOfStrings6\n",
    "df_PJ_h1['diagnosis'] = listOfStrings6\n",
    "df_PJ_h2['diagnosis'] = listOfStrings6\n",
    "df_PJ_h3['diagnosis'] = listOfStrings6\n",
    "df_PJ_h4['diagnosis'] = listOfStrings6\n",
    "\n",
    "df_PJ_f1 = df_PJ_h.append(df_PJ_h1)\n",
    "df_PJ_f2 = df_PJ_f1.append(df_PJ_h2)\n",
    "df_PJ_f3 = df_PJ_f2.append(df_PJ_h3)\n",
    "df_PJ_f4 = df_PJ_f3.append(df_PJ_h4)\n",
    "df_PJ_f5 = df_PJ_f4.append(df_PJ_boy)\n",
    "df_PJ_f6 = df_PJ_f5.append(df_PJ_osb)\n",
    "df_PJ_f7 = df_PJ_f6.append(df_PJ_mok)\n",
    "#df_PJ_f8 = df_PJ_f7.append(df_PJ_h_s)\n",
    "df_PJ_f = df_PJ_f7.append(df_PJ_s)"
   ]
  },
  {
   "cell_type": "code",
   "execution_count": 24,
   "metadata": {},
   "outputs": [],
   "source": [
    "# CDR3 Length"
   ]
  },
  {
   "cell_type": "code",
   "execution_count": 24,
   "metadata": {},
   "outputs": [],
   "source": [
    "data_c = np.array([qm_osb.data_marginals[:l_length_osb],qm_boy.data_marginals[:l_length_boy],qm_mok.data_marginals[:l_length_mok]])\n",
    "mean_data_c = np.mean(data_c, axis=0)\n",
    "std_data_c = np.std(data_c, axis=0)\n",
    "\n",
    "data_h = np.array([qm_h.data_marginals[:l_length_h],qm_h1.data_marginals[:l_length_h1],qm_h2.data_marginals[:l_length_h2],qm_h3.data_marginals[:l_length_h3],qm_h4.data_marginals[:l_length_h4]])\n",
    "mean_data_h = np.mean(data_h, axis=0)\n",
    "std_data_h = np.std(data_h, axis=0)\n",
    "\n",
    "data_s = np.array(qm_s.data_marginals[:l_length_s])\n",
    "\n",
    "data_h_s = np.array(qm_h_s.data_marginals[:l_length_h_s])"
   ]
  },
  {
   "cell_type": "markdown",
   "metadata": {},
   "source": [
    "### q fitting in severity groups"
   ]
  },
  {
   "cell_type": "code",
   "execution_count": 25,
   "metadata": {},
   "outputs": [],
   "source": [
    "q_mild = [1.2e-5]\n",
    "q_moderate =[ 6.321e-06, 9.936000000000001e-06, 2.2085999999999998e-05, 2.0406e-05, 1.5361e-05, 1.6051e-05, 2.8936e-05, 8.016e-06, 5.3606e-05,4.4326e-05,1.0071e-05]\n",
    "q_severe = [2.6096e-05,7.236e-06,7.401e-06,5.791e-06,4.246e-06,7.036e-06,4.980999999999999e-06]"
   ]
  },
  {
   "cell_type": "code",
   "execution_count": 26,
   "metadata": {},
   "outputs": [],
   "source": [
    "severity = []\n",
    "severity.append('Mild')\n",
    "\n",
    "for i in range(len(q_moderate)):\n",
    "    severity.append('Moderate')\n",
    "    \n",
    "for i in range(len(q_severe)):\n",
    "    severity.append('Severe')"
   ]
  },
  {
   "cell_type": "code",
   "execution_count": 27,
   "metadata": {},
   "outputs": [],
   "source": [
    "q_total = q_mild+q_moderate+q_severe"
   ]
  },
  {
   "cell_type": "code",
   "execution_count": 63,
   "metadata": {},
   "outputs": [],
   "source": [
    "x_dist = [0, 0.7, 0.8, 0.9, 1, 1.1, 1.2, 1.15, 1.25,1.35, 1.05, 1.15,1.8,1.9,2.1,2,2.1,2.2,2.3]"
   ]
  },
  {
   "cell_type": "code",
   "execution_count": 64,
   "metadata": {},
   "outputs": [],
   "source": [
    "df_q = pd.DataFrame(list(zip(q_total, severity, x_dist)),columns =['q_value', 'severity','x_dist'])"
   ]
  },
  {
   "cell_type": "code",
   "execution_count": 30,
   "metadata": {},
   "outputs": [],
   "source": [
    "labels = ['Mild','Moderate', 'Severe']\n",
    "x_pos = np.arange(len(labels))"
   ]
  },
  {
   "cell_type": "markdown",
   "metadata": {},
   "source": [
    "### Plots"
   ]
  },
  {
   "cell_type": "code",
   "execution_count": 37,
   "metadata": {},
   "outputs": [],
   "source": [
    "import matplotlib.pyplot as plt\n",
    "font={'size': 10, 'weight': 'normal', 'family': 'DejaVu Sans'}\n",
    "plt.rc('text', usetex=True)\n",
    "plt.rc('font', **font)"
   ]
  },
  {
   "cell_type": "code",
   "execution_count": 67,
   "metadata": {
    "scrolled": true
   },
   "outputs": [
    {
     "name": "stderr",
     "output_type": "stream",
     "text": [
      "/home/ruiz/miniconda3/lib/python3.7/site-packages/mpl_scatter_density/generic_density_artist.py:77: RuntimeWarning: All-NaN slice encountered\n",
      "  vmin = self._density_vmin(array)\n",
      "/home/ruiz/miniconda3/lib/python3.7/site-packages/mpl_scatter_density/generic_density_artist.py:82: RuntimeWarning: All-NaN slice encountered\n",
      "  vmax = self._density_vmax(array)\n"
     ]
    },
    {
     "data": {
      "image/png": "[encoded data removed]",
      "text/plain": [
       "<Figure size 720x617.04 with 6 Axes>"
      ]
     },
     "metadata": {
      "needs_background": "light"
     },
     "output_type": "display_data"
    }
   ],
   "source": [
    "fig =  plt.figure(figsize=(10,8.57))\n",
    "plt.rc('text', usetex=True)\n",
    "\n",
    "# Plot 1\n",
    "\n",
    "kwargs = {'xscale':'log', 'yscale':'log', 'xlabel':'Sharing number', 'ylabel':'Number of unique CDR3s', 'title':'Human IgG BCR'}\n",
    "\n",
    "ax1 = plt.subplot(3,6,(1,3), **kwargs)\n",
    "ax1.plot(np.arange(counts_covid.min(), counts_covid.max()+1), hist_covid, '+',color=sns.color_palette(\"Paired\")[1], markersize=6, mew=1, label='COVID-19')\n",
    "\n",
    "ax1.plot(snumber, M, color=sns.color_palette(\"Paired\")[5],linewidth=.6, label='$P_{\\mathrm post}$+selection')\n",
    "ax1.fill_between(snumber,M-M_error,M+M_error,alpha=0.3,color='lightcoral')\n",
    "\n",
    "ax1.legend(frameon=False)\n",
    "\n",
    "# The spines\n",
    "plt.setp(ax1.spines.values(), linewidth=.6)\n",
    "\n",
    "# The ticks\n",
    "ax1.xaxis.set_tick_params(width=.6)\n",
    "ax1.yaxis.set_tick_params(width=.6)\n",
    "\n",
    "# Plot 2\n",
    "\n",
    "kwargs = {'xlabel':'$-\\log_{10}(P_{\\mathrm Data})$', 'ylabel':'$-\\log_{10}(P^{*}_{\\mathrm Post})$'}\n",
    "\n",
    "xs = np.arange(6,2)\n",
    "ax2 = plt.subplot(3,6,(4,6), projection='scatter_density', **kwargs)\n",
    "density = ax2.scatter_density(x, y, cmap=white_viridis)\n",
    "#density = ax2.scatter(x, y, color='blue',s=3)\n",
    "scatter = ax2.scatter(x2,y2, color='red',s=0.7)\n",
    "#plt.plot(xs,xs, ls = '--', lw=0.8, color='black')\n",
    "ax2.set_ylim(-45,10)\n",
    "ax2.set_xlim(-5,-4.2)\n",
    "\n",
    "plt.setp(ax2.spines.values(), linewidth=.6)\n",
    "\n",
    "ax2.xaxis.set_tick_params(width=.6)\n",
    "ax2.yaxis.set_tick_params(width=.6)\n",
    "\n",
    "\n",
    "# Plot 3\n",
    "\n",
    "ax3 = plt.subplot(3,6,(7,12))\n",
    "\n",
    "df_sel_V = df_PV_f.loc[df_PV_f['pV']>0.01,:]\n",
    "g = sns.barplot(x=df_sel_V.index, y=df_sel_V.pV, hue=df_sel_V.diagnosis, palette='Set2', ax=ax3,\n",
    "            errwidth=0.6,ci = \"sd\", capsize = 0.2)\n",
    "\n",
    "# statistical annotation\n",
    "x9, x10 = 22.75,23\n",
    "x11, x12 = -0.25,0.25\n",
    "y7,h,col = 0.04, 0.0015, 'k'\n",
    "#y8 = df_PV_f['pV'].max()\n",
    "y8 = 0.12\n",
    "x13, x14 = 19.75, 20.25\n",
    "y9 = 0.058\n",
    "x15,x16 = 24.75,25.25\n",
    "x17,x18 = 6.75,7.25\n",
    "y10 = y8\n",
    "x19,x20 = 21.75, 22.25\n",
    "\n",
    "plt.plot([x9, x9, x10, x10], [y7, y7+h, y7+h, y7], lw=.6, c=col)\n",
    "plt.text((x9+x10)*.5, y7+h, '*', ha='center', va='bottom', color=col)\n",
    "plt.plot([x11, x11, x12, x12], [y8, y8+h, y8+h, y8], lw=.6, c=col)\n",
    "plt.text((x11+x12)*.5, y8+h, '*', ha='center', va='bottom', color=col)\n",
    "plt.plot([x13, x13, x14, x14], [y9, y9+h, y9+h, y9], lw=.6, c=col)\n",
    "plt.text((x13+x14)*.5, y9+h, '*', ha='center', va='bottom', color=col)\n",
    "plt.plot([x15, x15, x16, x16], [y7, y7+h, y7+h, y7], lw=.6, c=col)\n",
    "plt.text((x15+x16)*.5, y7+h, '*', ha='center', va='bottom', color=col)\n",
    "plt.plot([x17, x17, x18, x18], [y10, y10+h, y10+h, y10], lw=.6, c=col)\n",
    "plt.text((x17+x18)*.5, y10+h, '*', ha='center', va='bottom', color=col)\n",
    "plt.plot([x19, x19, x20, x20], [y7, y7+h, y7+h, y7], lw=.6, c=col)\n",
    "plt.text((x19+x20)*.5, y7+h, '*', ha='center', va='bottom', color=col)\n",
    "\n",
    "plt.xticks(rotation='vertical')\n",
    "ax3.set_ylabel('Relative counts')\n",
    "ax3.set_ylim(0,0.14)\n",
    "ax3.legend(loc='upper right', title=None,frameon=False)\n",
    "\n",
    "plt.setp(ax3.spines.values(), linewidth=.6)\n",
    "\n",
    "ax3.xaxis.set_tick_params(width=.6)\n",
    "ax3.yaxis.set_tick_params(width=.6)\n",
    "\n",
    "# Plot 4\n",
    "\n",
    "ax4 = plt.subplot(3,6,(13,14))\n",
    "\n",
    "df_sel_J = df_PJ_f.loc[df_PJ_f['pJ']>0.01,:]\n",
    "g = sns.barplot(x=df_sel_J.index, y=df_sel_J.pJ, hue=df_sel_J.diagnosis, palette='Set2', ax=ax4,\n",
    "            errwidth=0.6,ci = \"sd\", capsize = 0.2)\n",
    "\n",
    "# statistical annotation\n",
    "x5, x6 = -0.25,0.25\n",
    "x7, x8 = 1.75,2.25\n",
    "y5,h,col = df_PJ_f['pJ'].max() + 0.015, 0.01, 'k'\n",
    "y6 = 0.35\n",
    "\n",
    "plt.plot([x5, x5, x6, x6], [y5, y5+h, y5+h, y5], lw=.6, c=col)\n",
    "plt.text((x5+x6)*.5, y5+h, '*', ha='center', va='bottom', color=col)\n",
    "plt.plot([x7, x7, x8, x8], [y6, y6+h, y6+h, y6], lw=.6, c=col)\n",
    "plt.text((x7+x8)*.5, y6+h, '*', ha='center', va='bottom', color=col)\n",
    "\n",
    "ax4.set_ylabel('Relative counts')\n",
    "plt.xticks(rotation='vertical')\n",
    "g.legend_.remove()\n",
    "ax4.set_ylim(0,0.75)\n",
    "#ax4.legend(frameon=False)\n",
    "\n",
    "plt.setp(ax4.spines.values(), linewidth=.6)\n",
    "\n",
    "ax4.xaxis.set_tick_params(width=.6)\n",
    "ax4.yaxis.set_tick_params(width=.6)\n",
    "\n",
    "# Plot 5\n",
    "\n",
    "ax5 = plt.subplot(3,6,(15,16))\n",
    "#ax5.bar(np.arange(l_length_h),qm_h.data_marginals[:l_length_h],label='Healthy',color = sns.color_palette(\"Set2\")[1], edgecolor = 'black', width=1, alpha=0.8)\n",
    "ax5.plot(np.arange(l_length_h),mean_data_h,color = sns.color_palette(\"Set2\")[0],linewidth=.6, label='Healthy',alpha=0.7)\n",
    "ax5.fill_between(np.arange(l_length_h),mean_data_h-2*std_data_h, mean_data_h+2*std_data_h,color = sns.color_palette(\"Set2\")[0],alpha=0.5)\n",
    "ax5.plot(np.arange(l_length_h_s),data_h_s,color = sns.color_palette(\"tab10\")[0],linewidth=.6, label='Healthy \\n sign.',alpha=1)\n",
    "ax5.plot(np.arange(l_length_mok),mean_data_c,color = sns.color_palette(\"Set2\")[1],linewidth=.6, label='Covid-19',alpha=0.9)\n",
    "ax5.fill_between(np.arange(l_length_mok),mean_data_c-std_data_c, mean_data_c+std_data_c,color = sns.color_palette(\"Set2\")[1],alpha=0.2)\n",
    "ax5.plot(np.arange(l_length_s),data_s,color = sns.color_palette(\"Set2\")[2],linewidth=.6, label='Covid-19 \\n sign.',alpha=0.9)\n",
    "\n",
    "ax5.legend(frameon=False, loc='upper left')\n",
    "ax5.set_xlabel('CDRH3 length [aa]')\n",
    "ax5.set_ylabel('Relative counts')\n",
    "\n",
    "plt.setp(ax5.spines.values(), linewidth=.6)\n",
    "\n",
    "ax5.xaxis.set_tick_params(width=.6)\n",
    "ax5.yaxis.set_tick_params(width=.6)\n",
    "\n",
    "# Plot 6\n",
    "\n",
    "ax6 = plt.subplot(3,6,(17,18))\n",
    "\n",
    "ax6.scatter(x=df_q['x_dist'][0], y=df_q[\"q_value\"][0],color = sns.color_palette(\"icefire\")[0])\n",
    "ax6.scatter(x=df_q['x_dist'][1:12], y=df_q[\"q_value\"][1:12],color = sns.color_palette(\"icefire\")[2])\n",
    "ax6.scatter(x=df_q['x_dist'][12:], y=df_q[\"q_value\"][12:],color = sns.color_palette(\"icefire\")[5])\n",
    "\n",
    "ax6.set_xticks(x_pos)\n",
    "ax6.set_xticklabels(labels)\n",
    "ax6.set_ylabel('q')\n",
    "\n",
    "#ax5.set(ylim=(0.42, 0.605))\n",
    "ax6.set_xticklabels(ax6.get_xticklabels(), rotation=40, ha=\"right\")\n",
    "\n",
    "plt.tight_layout()\n",
    "\n",
    "fig.savefig('/home/ruiz/Figure3.pdf',bbox_inches='tight')\n",
    "\n",
    "plt.show()"
   ]
  }
 ],
 "metadata": {
  "kernelspec": {
   "display_name": "Python 3 (ipykernel)",
   "language": "python",
   "name": "python3"
  },
  "language_info": {
   "codemirror_mode": {
    "name": "ipython",
    "version": 3
   },
   "file_extension": ".py",
   "mimetype": "text/x-python",
   "name": "python",
   "nbconvert_exporter": "python",
   "pygments_lexer": "ipython3",
   "version": "3.7.11"
  }
 },
 "nbformat": 4,
 "nbformat_minor": 4
}
